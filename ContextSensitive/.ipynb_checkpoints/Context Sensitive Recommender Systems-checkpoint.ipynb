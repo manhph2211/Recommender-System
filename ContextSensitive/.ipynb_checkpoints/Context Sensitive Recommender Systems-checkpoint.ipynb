{
 "cells": [
  {
   "cell_type": "markdown",
   "metadata": {},
   "source": [
    "# Introduction"
   ]
  },
  {
   "cell_type": "markdown",
   "metadata": {},
   "source": [
    "Context-sensitive recommender systems tailor their recommendations to additional information that defines the specific situation under which recommendations are made. This additional information is referred to as the **context**.\n",
    "\n",
    "Some examples of context are: time, location, social information, ..."
   ]
  },
  {
   "cell_type": "markdown",
   "metadata": {},
   "source": [
    "In a context-aware system, an additional set of contextual possibilities is present in the set *C*. The\n",
    "context must be included in the mapping in order to provide a more refined and accurate recommendation. Therefore, in context-sensitive recommender systems, the possibilities in $U × I × C$ are mapped to the ratings. Formally, the function $h_R$ , which maps the user, items,\n",
    "and context to the rating, can be written as follows:\n",
    "$$ h_R : U \\times I \\times C \\Rightarrow rating $$\n"
   ]
  },
  {
   "cell_type": "markdown",
   "metadata": {},
   "source": [
    "# The Multidimensional Approach"
   ]
  },
  {
   "cell_type": "markdown",
   "metadata": {},
   "source": [
    "In multidimensional approach to recommendations, the rating problem is seen as that of mapping a set of $w$ different dimensional values to a rating:\n",
    "$$ g_R : D_1 \\times D_2 ... \\times D_w \\Rightarrow rating $$"
   ]
  },
  {
   "cell_type": "markdown",
   "metadata": {},
   "source": [
    "In this case, the ratings data $R$ contain $w$ different dimensions that are mapped to ratings. This results in a $w$-dimensional cube rather than a 2-dimensional matrix. The $w$ different dimensions are denoted by $D_1...D_w$\n",
    "\n",
    "The rating function $g_R$ is defined as a partial function, in which the number of arguments is equal to the number of dimensions $w$."
   ]
  },
  {
   "cell_type": "markdown",
   "metadata": {},
   "source": [
    "At a more general level, the idea can be related to that of querying for top-ranked combinations of values with the use of two disjoint subsets from $D_1...D_w$. The selected subsets of dimensions in $D_1...D_w$ are either “what” dimensions, or they are “for whom” dimensions. Each of the dimensions belongs to one of the two categories but it cannot belong to both categories. A typical query is of the following form:\n",
    "\n",
    "*Determine the top-k possibilities in the “what” dimensions for a particular set of specified values in the “for whom” dimensions.*"
   ]
  },
  {
   "cell_type": "markdown",
   "metadata": {},
   "source": [
    "**Multidimensional Recommendations**: Given the recommendation\n",
    "space $D_1 \\times D_2 \\times ... D_w$ and the rating function $g_R : D_1 \\times D_2 ... \\times D_w \\Rightarrow rating$, the recommendation problem is defined by selecting certain “what” dimensions $D_{i_1}...D_{i_p}$ and certain “for whom” dimensions $D_{j_1}...D_{j_q}$ that do not overlap, and recommending for a\n",
    "query tuple $(d_{j_1}...d_{j_q}) \\in D_{j_1} \\times ... \\times D_{j_q}$ the top-k tuples $(d_{i_1} ... d_{i_p}) \\in D_{i_1} \\times ... \\times D_{i_p}$ with the maximum predicted value of the rating $g_R(d_1, d_2, ..., d_w )$."
   ]
  },
  {
   "cell_type": "markdown",
   "metadata": {},
   "source": [
    "##  The Importance of Hierarchies"
   ]
  },
  {
   "cell_type": "markdown",
   "metadata": {},
   "source": [
    "In the traditional OLAP model, hierarchies are often defined over various dimensions. For example, in a sales application, the various cells of the data cube correspond to sales values, and the location dimensions may have various hierarchical levels, such as city, state, region, and so on. Hierarchies are also useful in the context-sensitive recommender systems because they provide various levels of abstraction in which one might perform aggregated analysis."
   ]
  },
  {
   "cell_type": "markdown",
   "metadata": {},
   "source": [
    "The nature of the hierarchy is highly domain-specific, and it depends\n",
    "on the application at hand:\n",
    "1. The location dimension can have a hierarchy corresponding to city, state, region, country, and so on.\n",
    "2. If demographic information is associated with users, then one can also arrange the person dimension in a hierarchy of demographic attributes, such as age or occupation.\n",
    "3. The item dimension can use a standard industry hierarchy.\n",
    "4. Dimensions such as time can be represented in various granular levels of hierarchy, such as hours, days, weeks, months, and so on."
   ]
  },
  {
   "cell_type": "markdown",
   "metadata": {},
   "source": [
    "**Multi - level Multidimensional Rating Estimation Problem**: Given an initial set of user-assigned ratings specified at different levels of the multidimensional cube of ratings, the task is to estimate all other ratings in the cube at all the levels of the OLAP hierarchies."
   ]
  },
  {
   "cell_type": "markdown",
   "metadata": {},
   "source": [
    "The techniques for performing contextual recommendation fall into one of three categories:\n",
    "1. Contextual pre-filtering: In these methods, a segment of the ratings is pre-filtered corresponding to the relevant context. This relevant segment of ratings is then used to make targeted recommendations.\n",
    "2. Contextual post-filtering: In these methods, the recommendations are first performed on the entire global set of ratings. Subsequently, the ranked recommendation lists are iltered or adjusted as a post-processing step with the use of temporal context.\n",
    "3. Contextual modeling: In this case, the contextual information is incorporated directly into the prediction function, rather than as a pre-filtering or post-filtering step."
   ]
  },
  {
   "cell_type": "markdown",
   "metadata": {},
   "source": [
    "# Contextual Pre-filtering: A Reduction-Based Approach"
   ]
  },
  {
   "cell_type": "markdown",
   "metadata": {},
   "source": [
    "Contextual pre-filtering is also referred to as reduction. In the reduction-based approach, the idea is to reduce the w-dimensional estimation problem to a set of 2-dimensional estimations. \n",
    "\n",
    "Consider the case where the three attributes are users $(U)$, movie items $(I)$, and time $(T)$. In such a case, the rating function $g_R$ is defined as follows:\n",
    "$$ g_R : U \\times I \\times T \\Rightarrow rating $$\n",
    "\n",
    "Consider a traditional 2-dimensional recommender system in which the mapping $f_{R'}$ is as follows:\n",
    "$$ f_{R'} : U \\times I \\Rightarrow rating $$\n",
    "\n",
    "The 3-dimensional prediction function can be expressed in terms of the 2-dimensional prediction function by using a reduced derivative of the 3-dimensional ratings matrix.\n",
    "\n",
    "At any queried time t, this is achieved by deriving a 2-dimensional ratings matrix $R'(t)$ from $R$ with a pair of standard database operations:\n",
    "$$ R'(t) = Project_{U, I} (Select_{T=t}(R)) $$"
   ]
  },
  {
   "cell_type": "markdown",
   "metadata": {},
   "source": [
    "Because only a small subset of the ratings are used in a given slice, one may sometimes not have sufficient ratings to perform an accurate recommendation. In such cases, one may aggregate the rating at t with other adjacent time slices to create more accurate recommendations."
   ]
  },
  {
   "cell_type": "markdown",
   "metadata": {},
   "source": [
    "## Ensemble-Based Improvements"
   ]
  },
  {
   "cell_type": "markdown",
   "metadata": {},
   "source": [
    "The goal of the ensemble-based method is to use the best of both worlds in the prediction process. In other words, either the local or the global matrix may be used, depending on the part of the ratings matrix that one is looking at. This approach results in the best trade-off between sparsity and local relevance."
   ]
  },
  {
   "cell_type": "markdown",
   "metadata": {},
   "source": [
    "For example, if the main variables are users and items, and the contextual variables are location and time, then each possible value of a location-time pair defines a data segment. When a recommendation problem is posed with a particular location-time context, it is important for the recommendation algorithm to determine whether or not using that context is indeed helpful."
   ]
  },
  {
   "cell_type": "markdown",
   "metadata": {},
   "source": [
    "In the training step, the approach first identifies the cross-validated accuracy on each data segment."
   ]
  },
  {
   "cell_type": "markdown",
   "metadata": {},
   "source": [
    "## Multi-level Estimation"
   ]
  },
  {
   "cell_type": "markdown",
   "metadata": {},
   "source": [
    "In some cases, a user might have expressed ratings at upper levels of the hierarchy. For example, a user might have specified ratings for genres of movies, as opposed to individual movies. A question arises as to how one might use these higher-level ratings to improve the estimation process. The basic idea here is to assign ratings at the lowest level, so that the computed average of the observed and predicted ratings at the lower levels (descendent nodes) is as close as possible to the observed rating at the higher level (ancestor node)."
   ]
  },
  {
   "cell_type": "markdown",
   "metadata": {},
   "source": [
    "Let the rating of David for action movies be $r_a$ . In such cases, David’s predicted ratings of action movies at the lowest level should be such that the average value of his observed and predicted ratings is as close as possible to his rating $r_a$ of action movies."
   ]
  },
  {
   "cell_type": "markdown",
   "metadata": {},
   "source": [
    "# Post-Filtering Methods"
   ]
  },
  {
   "cell_type": "markdown",
   "metadata": {},
   "source": [
    "In post-filtering, the filtering steps are applied to the output obtained after applying a global collaborative filtering algorithm that ignores the contextual information in the data set.\n",
    "\n",
    "In post-filtering methods, the contextual information is ignored, and a global 2-dimensional ratings matrix is created by aggregating the ratings over all the possible contextual values.\n",
    "\n",
    "Therefore, the approach comprises two steps:\n",
    "1. Recommendations are generated on all the data by applying a conventional collaborative filtering model on an aggregated user-item matrix. Thus, context is ignored in the first step.\n",
    "2. Context is then used to adjust or filter the recommended list."
   ]
  },
  {
   "cell_type": "markdown",
   "metadata": {},
   "source": [
    "In the case of explicit ratings, the aggregation process refers to the averaging of (observed) ratings, whereas in the case of implicit feedback matrices (e.g., units sold), the process of aggregation refers to the sum of the values."
   ]
  },
  {
   "cell_type": "markdown",
   "metadata": {},
   "source": [
    "Traditional collaborative filtering algorithms can be applied to this aggregated matrix in order to create predicted ratings $\\hat{r}_{uj}$ and a corresponding ranked list of items for each user u. However, this ranked list is not sensitive to the contextual information, because the contextual dimension was ignored in the recommendation process. The post-filtering strategy adjusts the results after the estimations have been made. The adjustments can be made in one of two different ways. The first method corresponds to filtering out irrelevant items, and the second method corresponds to adjusting the ranking of the recommendations in the list based on the underlying context."
   ]
  },
  {
   "cell_type": "markdown",
   "metadata": {},
   "source": [
    "One approach is to use heuristic methods to adjust or filter the recommended list based on the attributes associated with users and items.\n",
    "\n",
    "One another heuristic approach is to find the common item attributes\n",
    "that are relevant to a given context."
   ]
  },
  {
   "cell_type": "markdown",
   "metadata": {},
   "source": [
    "# Contextual Modeling"
   ]
  },
  {
   "cell_type": "markdown",
   "metadata": {},
   "source": [
    "It is possible to incorporate context directly into the recommendation process by modifying existing models (such as neighborhood-based methods) to the w-dimensional setting. Such an approach provides the most flexible and generalized view of context-sensitive recommendations, which is independent of the shackles of 2-dimensional algorithms."
   ]
  },
  {
   "cell_type": "markdown",
   "metadata": {},
   "source": [
    "## Neighborhood-Based Methods"
   ]
  },
  {
   "cell_type": "markdown",
   "metadata": {},
   "source": [
    "For the purpose of discussion, let us consider the case where the specific context used is time. Therefore, we have three dimensions corresponding to users, items, and time. The first step is to compute the distances separately on the users, items, and time. Consider two points in the 3-dimensional cube, corresponding to $A = (u, i, t)$ and $B = (u' , i', t')$ respectively.\n",
    "Then, the distance between A and B can be defined as the sum of the weighted distances between the individual dimensions. In other words, we have:\n",
    "$$ Dist(A, B) = w_1.Dist(u, u') + w_2.Dist(i, i') + w_3.Dist(t, t') $$\n",
    "\n",
    "Here, $w_1$, $w_2$, and $w_3$, respectively, reflect the relative importance of the user, item, and context (time) dimensions. Or:\n",
    "\n",
    "$$ Dist(A, B) = \\sqrt{w_1.Dist(u, u')^2 + w_2.Dist(i, i')^2 + w_3.Dist(t, t')^2} $$\n"
   ]
  },
  {
   "cell_type": "markdown",
   "metadata": {},
   "source": [
    "Then, for a given cell of the 3-dimensional matrix, the closest r (observed) ratings are determined by using this metric. The weighted average of these ratings is reported as the predicted rating. The weighting used is the similarity between A and B, which is also defined as $1/Dist(A, B)$."
   ]
  },
  {
   "cell_type": "markdown",
   "metadata": {},
   "source": [
    "A question arises as to how $Dist(u, u')$, $Dist(i, i')$, and $Dist(t, t')$ may be determined.\n",
    "There are several different ways of doing this:\n",
    "1. Collaborative: In this case, one can use the Pearson method or the adjusted cosine to calculate $Dist(u, u')$, $Dist(i, i')$, and $Dist(t, t)$.\n",
    "2. Content-based: In this case, the attributes associated with the dimensions (i.e., user profiles and item profiles) are used to compute the profile. A variety of text-based measures, such as the cosine, may be used.\n",
    "3. Combined: It is possible to combine the collaborative and content-based measures to obtain a more robust measure of similarity. The relative weighting may be inferred with the use of cross-validation methods, so as to maximize the prediction accuracy."
   ]
  },
  {
   "cell_type": "markdown",
   "metadata": {},
   "source": [
    "## Latent Factor Models"
   ]
  },
  {
   "cell_type": "markdown",
   "metadata": {},
   "source": [
    "Tensor factorization can be considered a generalization of matrix factorization, in which an n-dimensional data cube is factorized, rather than a 2-dimensional matrix. The traditional context-sensitive representation is indeed an w-dimensional cube, and therefore it is particularly well suited to tensor factorization. In this sense, tensor factorization methods can be considered contextual generalizations of conventional matrix factorization methods in recommender systems."
   ]
  },
  {
   "cell_type": "markdown",
   "metadata": {},
   "source": [
    "Such an application of tensor factorization is computationally very intensive, especially when the underlying data cubes are large. In most cases, the use of higher-order tensor factorization is an overkill in such settings"
   ]
  },
  {
   "cell_type": "markdown",
   "metadata": {},
   "source": [
    "### Pairwise Interaction Tensor Factorization (PITF) "
   ]
  },
  {
   "cell_type": "markdown",
   "metadata": {},
   "source": [
    "Let $R = [r_{ijc}]$ be a 3-dimensional ratings cube of size $m \\times n \\times d$ with $m$ users, $n$ items, and $d$ different values of the contextual dimension. $U = [u_{is}]$, $V = [v_{js}]$, and $W = [w_{cs}]$ be $m \\times k$, $n \\times k$, and $d \\times k$, matrices. Here, $U$ denotes the user-factor matrix, $V$ denotes the item-factor matrix, and $W$ denotes the context-factor matrix.\n",
    "The notation $k$ denotes the rank of the latent factor model. Then, the basic principle of the simplified prediction function of the $(i, j, k)$th element of the data cube is based on pairwise interactions between users, items, and contexts. This implies the following prediction function:\n",
    "\n",
    "$$ \\hat{r}_{ijc} = (UV^T)_{ij} + (VW^T)_{jc} + (UW^T)_{ic} $$"
   ]
  },
  {
   "cell_type": "markdown",
   "metadata": {},
   "source": [
    "### Factorization Machines "
   ]
  },
  {
   "cell_type": "markdown",
   "metadata": {},
   "source": [
    "In factorization machines, the basic idea is to model each rat-\n",
    "ing as a linear combination of interactions between input variables. The input variables are derived from the original ratings matrix."
   ]
  },
  {
   "cell_type": "markdown",
   "metadata": {},
   "source": []
  },
  {
   "cell_type": "markdown",
   "metadata": {},
   "source": []
  },
  {
   "cell_type": "markdown",
   "metadata": {},
   "source": []
  },
  {
   "cell_type": "markdown",
   "metadata": {},
   "source": []
  },
  {
   "cell_type": "markdown",
   "metadata": {},
   "source": []
  },
  {
   "cell_type": "markdown",
   "metadata": {},
   "source": []
  },
  {
   "cell_type": "markdown",
   "metadata": {},
   "source": []
  }
 ],
 "metadata": {
  "kernelspec": {
   "display_name": "custom_env",
   "language": "python",
   "name": "custom_env"
  },
  "language_info": {
   "codemirror_mode": {
    "name": "ipython",
    "version": 3
   },
   "file_extension": ".py",
   "mimetype": "text/x-python",
   "name": "python",
   "nbconvert_exporter": "python",
   "pygments_lexer": "ipython3",
   "version": "3.5.2"
  }
 },
 "nbformat": 4,
 "nbformat_minor": 2
}
