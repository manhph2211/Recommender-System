{
 "cells": [
  {
   "cell_type": "markdown",
   "metadata": {},
   "source": [
    "**Note: This post was the summary of chapter 5 - Recommendation Systems - The Textbook - Charu C. Aggarwal**"
   ]
  },
  {
   "cell_type": "markdown",
   "metadata": {},
   "source": [
    "# Introduction"
   ]
  },
  {
   "cell_type": "markdown",
   "metadata": {},
   "source": [
    "Both content-based and collaborative system require a significant amount of data about past buying and rating experiences. These systems have varying levels of susceptibility to *cold-start* problem. For example, collaborative systems are the most susceptible, and they can not handle new items or new users very well. Content-based systems are somewhat better at handling new items. But they still can not provide recommendations to new users.<br>\n",
    "These methods are generally not well suited to domains in which the product is highly *customized*. Because of the complexity in describing the item, it may be difficult to obtain a reasonable set of ratings reflecting the past history of a user on a similarity item."
   ]
  },
  {
   "cell_type": "markdown",
   "metadata": {},
   "source": [
    "**Knowledge-based** recommender systems rely on *explicitly soliciting user requirements* for items which they have customization and paucity of ratings. However, in such complex domains, it is often difficult for user to fully enunciate or even understand how their requirements match the product availability. Therefore, such systems use interative feedback, which allow user ro explore the inherently complex product space and learn about the trade-offs between various options."
   ]
  },
  {
   "cell_type": "markdown",
   "metadata": {},
   "source": [
    "In general, knowledge-based systems are appropriate in the following information:\n",
    "1. Customers want to explicitly specify their requirements.\n",
    "2. It is difficult to obtain ratings for a specific type of item because the greater complexity of the product domain in terms of the types of items and options available.\n",
    "3. In some domain, the ratings may be time-sensitive.\n",
    "\n",
    "A crucial part of knowledge-based systems is the greater control that user has in guilding the recommendation process."
   ]
  },
  {
   "cell_type": "markdown",
   "metadata": {},
   "source": [
    "There are two primary types:\n",
    "1. **Constrained-based recommender systems**: users typically specify requirements or constrained (lower or upper limit) on the item attributes. Domain-specific rules are used to match the user requirements or attributes to item attributes. These rules represent the domain-specific knowledge used by system.\n",
    "2. **Case-based recommender systems**: Specific cases are specified by the user as targets and anchor points. Similarity metrics are defined on the item attributes to retrieve similar items to these targets. The similarity metrics are often carefully defined in a domain-specidic way. The returned results are used as new targets."
   ]
  },
  {
   "cell_type": "markdown",
   "metadata": {},
   "source": [
    "The iteraction between user and recommender may take the form of:\n",
    "1. *Conversation systems*: The user preferences are determined in the context of feedback loop\n",
    "2. *Search-based systems*: User prefereces are elicited by using a preset sequence of questions.\n",
    "3. *Navigation-based recommendation (critiquing recommender systems)*: The user specifies a number of change requests to the item being currently recommended. Through an iterative set of change requests, it is possible to arrive at a desirable item."
   ]
  },
  {
   "cell_type": "markdown",
   "metadata": {},
   "source": [
    "# Constrained-Based Recommender Systems"
   ]
  },
  {
   "cell_type": "markdown",
   "metadata": {},
   "source": [
    "Constrained-based Recommender Systems allow users to specify hard requirements or constraints on the item attributes. Furthermore, a set of rules is used in order to match the customer requirements with item attributes."
   ]
  },
  {
   "cell_type": "markdown",
   "metadata": {},
   "source": [
    "These attributes may represent either inherent customer properties or thay may specify customer requirements for the product."
   ]
  },
  {
   "cell_type": "markdown",
   "metadata": {},
   "source": [
    "The knowledge-based contain additional rules thay map customer attributes/requirements to the product attributes:\n",
    "\n",
    "$$Suburban-or-rural\\ =\\ Suburban\\ =>\\ Locality= [List\\ of\\ relevant\\ localities]$$\n",
    "\n",
    "Such rules are referred to as *filter* conditions."
   ]
  },
  {
   "cell_type": "markdown",
   "metadata": {},
   "source": [
    "*Compatibility* conditions can be used to quickly discover inconsistencies in the user specified requirements with the product domain. Example:\n",
    "$$ Martial-status = single => Min-Bedrooms \\leq 5$$\n",
    "$$ Family-size \\geq 5 => Min-Bedrooms \\geq 3 $$"
   ]
  },
  {
   "cell_type": "markdown",
   "metadata": {},
   "source": [
    "Three types of input to the constraint-based recommender system:\n",
    "1. Attributes describing the inherent properties of user (demographics, risk profile) and specific requirements in the product.\n",
    "2. Knowledge based, which map customer attributes/requirements to various product attributes.\n",
    "3. Product catalog contains a list of all the products together with the corresponding item attributes"
   ]
  },
  {
   "cell_type": "markdown",
   "metadata": {},
   "source": [
    "## Returning relevant results"
   ]
  },
  {
   "cell_type": "markdown",
   "metadata": {},
   "source": [
    "The problem of returning relevant results can be shown to be an instance of constraint satisfaction problem by viewing each item in the catalog as a constraint on the attributes and expressing the catalog in disjunctive normal form. This expression is then combined with the rules in the knowledge base to determine whether a mutually consistent region of product space exists.<br>\n",
    "All the customer requirements and the active rules relevant to the customer are used to construct a database selection query."
   ]
  },
  {
   "cell_type": "markdown",
   "metadata": {},
   "source": [
    "## Interaction Approach"
   ]
  },
  {
   "cell_type": "markdown",
   "metadata": {},
   "source": [
    "The interaction between user and the recommender system generally proceeds in three phases:\n",
    "1. An iteractibe interface is used by the user to specify her initial preferences. Alternatively, the user could be asked a series of questions to elicit her initial preferences.\n",
    "2. The user is presented with a ranked list of matching items. An explanation for why the items are returned is typically provided.\n",
    "3. The user refine her requirements depending on the returned results.\n",
    "\n",
    "Thus, the overall approach uses an iteratibve feedback loop to assist the users in making meaningful decisions."
   ]
  },
  {
   "cell_type": "markdown",
   "metadata": {},
   "source": [
    "There are several aspects of this interaction, in which explicit computation is required in order to help the user. The user will typically not be able specify desired values for all the product attributes. Several solutions are possible under this sceriano:\n",
    "1. The systems may leave the other attributes unconstrained and retrieve the results based on only the specified constrained.\n",
    "2. In some cases, default values may be suggested to the user to provide guidance."
   ]
  },
  {
   "cell_type": "markdown",
   "metadata": {},
   "source": [
    "### How are default values determined?"
   ]
  },
  {
   "cell_type": "markdown",
   "metadata": {},
   "source": [
    "In most cases, it is necessary to choose the defaults in a domain-specific way. Knowledge bases need to explicitly store the data about such default values. <br>\n",
    "In some cases, where the historical data from user session is available, it is possible to learn the default values. <br>\n",
    "In some cases, the system might automatically adjust the default values based on feasibility constraints with respect to the knowledge base"
   ]
  },
  {
   "cell_type": "markdown",
   "metadata": {},
   "source": [
    "It is noteworthy that the provision of explainations is also an intelligent way of guiding the user towards more meaningful query refinements."
   ]
  },
  {
   "cell_type": "markdown",
   "metadata": {},
   "source": [
    "## Ranking the Matched Items"
   ]
  },
  {
   "cell_type": "markdown",
   "metadata": {},
   "source": [
    "The simplest approach is to allow user to specify a single numerical attribute on the basis of which to rank the items."
   ]
  },
  {
   "cell_type": "markdown",
   "metadata": {},
   "source": [
    "A common approach is to use utility functions in order to rank the matched items.  <br>\n",
    "Let $\\bar{V} = (v_1...v_d)$ be the vector of values defining the attributes of the matched products. Therefore, the dimensionality of the content space is $d$. The utility functions may be defined as weighted functions of the utilities of individual attributes. Each attribute has a weight $w_i$ assigned to it, and it has a contribution defined by the function $f_j(v_j)$ depending on the value $v_j$ of the matched attribute. Then the utility $U(\\bar{V})$ of the matched item is given by the following:\n",
    "$$ U(\\bar{V}) = \\sum_{j=1}^d w_j f_j(v_j)$$\n",
    "Clearly, one needs to instantiate the values of $w_j$ and $f_j(·)$ in order to learn the utility function. The design of effective utility functions often requires domain-specific knowledge, or learning data from past user interactions."
   ]
  },
  {
   "cell_type": "markdown",
   "metadata": {},
   "source": [
    "## Handling Unacceptable Results or Empty Sets\n"
   ]
  },
  {
   "cell_type": "markdown",
   "metadata": {},
   "source": [
    "In many cases, a particular query might return an empty set of results. In other cases, the set of returned results might not be large enough to meet the user requirements. <br>\n",
    "User has two options:\n",
    "1. Straightforward way of repairing the constraints does not exist, she may choose to start over from the entry point\n",
    "2. Change or relax the constraints for the next interactive iteration."
   ]
  },
  {
   "cell_type": "markdown",
   "metadata": {},
   "source": [
    "It is often helpful to provide the user with some guidance on relax- ing the current requirements. Such proposals are referred to as repair proposals"
   ]
  },
  {
   "cell_type": "markdown",
   "metadata": {},
   "source": [
    "## Adding Constraints"
   ]
  },
  {
   "cell_type": "markdown",
   "metadata": {},
   "source": [
    "In some cases, the number of returned results may be very large, and the user may need to suggest possible constraints to be added to the query. In such cases, a variety of methods can be used to suggest constraints to the user along with possible default values. <br>\n",
    "The attributes for such constraints are often chosen by mining historical session logs."
   ]
  },
  {
   "cell_type": "markdown",
   "metadata": {},
   "source": [
    "# Case-Based Recommenders "
   ]
  },
  {
   "cell_type": "markdown",
   "metadata": {},
   "source": [
    "In case-based recommenders, similarity metrics are used to retrieve examples that are similar to the specified targets (or cases). Unlike constraint-based systems, no hard constraints (e.g., minimum or maximum values) are enforced on these attributes. It is also possible to design an initial query interface in which examples of relevant items are used as targets. However, it is more natural to specify desired properties in the initial query interface. A similarity function is used to retrieve the examples that are most similar to the user-specified target."
   ]
  },
  {
   "cell_type": "markdown",
   "metadata": {},
   "source": [
    "The general idea of critiquing is that users can select one or more of the retrieved results and specify further queries of the following form:\n",
    "“Give me more items like X, but they are different in attribute(s) Y according to guidance Z.”"
   ]
  },
  {
   "cell_type": "markdown",
   "metadata": {},
   "source": [
    " Interactive browsing of the item space has the advantage that it is a learning process for the user during the process of iterative query formulation. It is often possible that through repeated and interactive exploration, the user might be able to arrive at items that could not otherwise have been reached at the very beginning."
   ]
  },
  {
   "cell_type": "markdown",
   "metadata": {},
   "source": [
    "The system uses the target query in conjunction with similarity or utility functions in order to retrieve matching results. The system then issues a new query with the modified target, and with a reduced set of candidates, which were the results from the previous query. In many cases, the effect is to simply prune the search results of cases that are not considered relevant, rather than provide a re-ranking of the returned results."
   ]
  },
  {
   "cell_type": "markdown",
   "metadata": {},
   "source": [
    "In order for a case-based recommender system to work effectively, there are two crucial aspects of the system that must be designed effectively:\n",
    "1. Similarity metrics: The effective design of similarity metrics is very important in case- based systems in order to retrieve relevant results. The importance of various attributes must be properly incorporated within the similarity function for the system to work effectively.\n",
    "2. Critiquing methods: The interactive exploration of the item space is supported with the use of critiquing methods. A variety of different critiquing methods are available to support different exploration goals."
   ]
  },
  {
   "cell_type": "markdown",
   "metadata": {},
   "source": [
    "## Similarity Metrics"
   ]
  },
  {
   "cell_type": "markdown",
   "metadata": {},
   "source": [
    "Consider an application in which the product is described by d attributes. We would like to determine the similarity values between two partial attribute vectors defined on a subset $S$ of the universe of $d$ attributes (i.e., $|S| = s ≤ d$). Let $\\bar{X} = (x_1...x_d)$ and $\\bar{T} = (t_1...t_d)$ represent two $d$-dimensional vectors, which might be partially specified. Here, $T$ represents the target. Then, the similarity function $f(\\bar{T}, \\bar{X})$ between the two sets of vectors is defined as follows:\n",
    "$$ f(\\bar{T}, \\bar{X}) = \\dfrac{\\sum_{i \\in S} Sim(t_i, x_i)}{\\sum_{i \\in S} w_i} $$"
   ]
  },
  {
   "cell_type": "markdown",
   "metadata": {},
   "source": [
    "$$ Sim(t_i, x_i)= 1 − \\dfrac{|ti −xi|}{max_i − min_i} + \\alpha i ·I(x_i > t_i).\\dfrac{|t_i − x_i|}{max_i − min_i} $$\n",
    "$$ I = 1\\ or\\ 0$$"
   ]
  },
  {
   "cell_type": "markdown",
   "metadata": {},
   "source": [
    "## Critiquing Methods"
   ]
  },
  {
   "cell_type": "markdown",
   "metadata": {},
   "source": [
    "Critiques are motivated by the fact that users are often not in a position to state their requirements exactly in the initial query. It is only after viewing the results of a query that a user might realize that she should have couched her query somewhat differently. Critiques are designed to provide the users this ability after the fact."
   ]
  },
  {
   "cell_type": "markdown",
   "metadata": {},
   "source": [
    "The critiques are of three different types, corresponding to *simple critiques, compound critiques, and dynamic critiques*."
   ]
  },
  {
   "cell_type": "markdown",
   "metadata": {},
   "source": [
    "# Persistent Personalization in Knowledge-Based Systems"
   ]
  },
  {
   "cell_type": "markdown",
   "metadata": {},
   "source": [
    "Many steps in knowledge-based systems can be personalized when user interaction data is available. These steps are as follows:\n",
    "\n",
    "1. The learning of utility/similarity functions over various attributes can be personalized for both constraint-based recommenders (ranking phase) and in case-based recommenders (retrieval phase). When past feedback from a particular user is available, it is possible to learn the relative importance of various attributes for that user in the utility function.\n",
    "2. The process of constraint suggestion for a user can be personalized if a significant number of sessions of that user are available.\n",
    "3. Dynamic critiques for a user can be personalized if sufficient data are available from that user to determine relevant patterns. The only difference from the most common form of dynamic critiquing is that user-specific data are leveraged rather than all the data for determining the frequent patterns. It is also possible to include the sessions of users with similar sessions in the mining process to increase the collaborative power of the recommender."
   ]
  },
  {
   "cell_type": "code",
   "execution_count": null,
   "metadata": {},
   "outputs": [],
   "source": []
  },
  {
   "cell_type": "code",
   "execution_count": null,
   "metadata": {},
   "outputs": [],
   "source": []
  },
  {
   "cell_type": "code",
   "execution_count": null,
   "metadata": {},
   "outputs": [],
   "source": []
  }
 ],
 "metadata": {
  "kernelspec": {
   "display_name": "Python 3",
   "language": "python",
   "name": "python3"
  },
  "language_info": {
   "codemirror_mode": {
    "name": "ipython",
    "version": 3
   },
   "file_extension": ".py",
   "mimetype": "text/x-python",
   "name": "python",
   "nbconvert_exporter": "python",
   "pygments_lexer": "ipython3",
   "version": "3.6.5"
  }
 },
 "nbformat": 4,
 "nbformat_minor": 2
}
