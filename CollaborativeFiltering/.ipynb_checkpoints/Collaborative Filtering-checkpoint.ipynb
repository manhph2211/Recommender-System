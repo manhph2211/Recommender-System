{
 "cells": [
  {
   "cell_type": "markdown",
   "metadata": {},
   "source": [
    "# Key Properties of Rating Matrices"
   ]
  },
  {
   "cell_type": "markdown",
   "metadata": {},
   "source": [
    "Ratings matrix: $R^{m \\times n}$: m users and n items\n",
    "Rating of user u for item j: $r_{uj}$\n",
    "\n",
    "Ratings can be defined in a variety of ways:\n",
    "- Continuous ratings: example: -10 to 10\n",
    "- Interval-based ratings: example: numerical integer values from 1 to 5\n",
    "- Ordinal ratings: example: \"Strongly Disagree\", \"Disagree\", \"Neutral\", \"Agree\", \"Strongly Agree\"\n",
    "- Binary ratings: positive or negative responses\n",
    "- Unary ratings: if the customer has not bought the item, then it is not necessary indicate a dislike for item."
   ]
  },
  {
   "cell_type": "code",
   "execution_count": 298,
   "metadata": {},
   "outputs": [],
   "source": [
    "import numpy as np"
   ]
  },
  {
   "cell_type": "code",
   "execution_count": 299,
   "metadata": {},
   "outputs": [],
   "source": [
    "nan = np.nan\n"
   ]
  },
  {
   "cell_type": "code",
   "execution_count": 300,
   "metadata": {},
   "outputs": [],
   "source": [
    "ratings_matrix = np.array([[7, 6, 7, 4, 5, 4], \n",
    "                           [6, 7, nan, 4, 3, 4],\n",
    "                           [nan, 3, 3, 1, 1, nan],\n",
    "                           [1, 2, 2, 3, 3, 4],\n",
    "                           [1, nan, 1, 2, 3, 3]])"
   ]
  },
  {
   "cell_type": "code",
   "execution_count": 301,
   "metadata": {},
   "outputs": [
    {
     "name": "stdout",
     "output_type": "stream",
     "text": [
      "[[ 7.  6.  7.  4.  5.  4.]\n",
      " [ 6.  7. nan  4.  3.  4.]\n",
      " [nan  3.  3.  1.  1. nan]\n",
      " [ 1.  2.  2.  3.  3.  4.]\n",
      " [ 1. nan  1.  2.  3.  3.]]\n"
     ]
    }
   ],
   "source": [
    "print(ratings_matrix)"
   ]
  },
  {
   "cell_type": "markdown",
   "metadata": {},
   "source": [
    "# User-Based Neighborhood Models"
   ]
  },
  {
   "cell_type": "markdown",
   "metadata": {},
   "source": [
    "$R = [r_{uj}]$ <br>\n",
    "$I_u$: set of item indices for which ratings have been specified by user (row) $u$ <br>"
   ]
  },
  {
   "cell_type": "code",
   "execution_count": 302,
   "metadata": {},
   "outputs": [],
   "source": [
    "# indices for vector\n",
    "def specified_rating_indices(u):\n",
    "#     indices = np.argwhere(np.isfinite(u))\n",
    "#     indices = np.reshape(indices, -1)\n",
    "    return list(map(tuple, np.where(np.isfinite(u))))"
   ]
  },
  {
   "cell_type": "code",
   "execution_count": 303,
   "metadata": {},
   "outputs": [],
   "source": [
    "# mean rating for each user i using his specified rating\n",
    "def mean(u, axis=0):\n",
    "    # may use specified_rating_indices but use more time\n",
    "    specified_ratings = u[specified_rating_indices(u)]#u[np.isfinite(u)]\n",
    "    m = sum(specified_ratings)/np.shape(specified_ratings)[0]\n",
    "    return m"
   ]
  },
  {
   "cell_type": "code",
   "execution_count": 304,
   "metadata": {},
   "outputs": [],
   "source": [
    "def all_user_mean_ratings(ratings_matrix):\n",
    "    return np.array([mean(ratings_matrix[u, :]) for u in range(ratings_matrix.shape[0])])\n",
    "    "
   ]
  },
  {
   "cell_type": "code",
   "execution_count": 414,
   "metadata": {},
   "outputs": [],
   "source": [
    "def get_mean_centered_ratings_matrix(ratings_matrix):\n",
    "    users_mean_rating = all_user_mean_ratings(ratings_matrix)\n",
    "    mean_centered_ratings_matrix = ratings_matrix - np.reshape(users_mean_rating, [-1, 1])\n",
    "    return mean_centered_ratings_matrix"
   ]
  },
  {
   "cell_type": "code",
   "execution_count": 415,
   "metadata": {},
   "outputs": [],
   "source": [
    "mean_centered_ratings_matrix = get_mean_centered_ratings_matrix(ratings_matrix)"
   ]
  },
  {
   "cell_type": "markdown",
   "metadata": {},
   "source": [
    "sometimes, the mean is computed only over the items that are rated both by users u and v, but we will compute for each user"
   ]
  },
  {
   "cell_type": "markdown",
   "metadata": {},
   "source": [
    "$$\\mu_u = \\dfrac{\\Sigma_{k \\in I_u} r_{uk}}{|I_u|}$$ <br>\n",
    "$$Sim(u, v) = Pearson(u, v) = \\dfrac{\\Sigma_{k \\in I_u \\cap I_v}(r_{uk} - \\mu_u)(r_{vk} - \\mu_v)}{\\sqrt{\\Sigma_{k \\in I_u \\cap I_v}(r_{uk} - \\mu_u)^2}\\sqrt{\\Sigma_{k \\in I_u \\cap I_v}(r_{vk} - \\mu_v)^2}}$$"
   ]
  },
  {
   "cell_type": "code",
   "execution_count": 307,
   "metadata": {},
   "outputs": [],
   "source": [
    "def pearson(u, v):\n",
    "    mean_u = mean(u)\n",
    "    mean_v = mean(v)\n",
    "    \n",
    "    specified_rating_indices_u = set(specified_rating_indices(u)[0])\n",
    "    specified_rating_indices_v = set(specified_rating_indices(v)[0])\n",
    "    \n",
    "    mutually_specified_ratings_indices = specified_rating_indices_u.intersection(specified_rating_indices_v)\n",
    "    mutually_specified_ratings_indices = list(mutually_specified_ratings_indices)\n",
    "    \n",
    "    u_mutually = u[mutually_specified_ratings_indices]\n",
    "    v_mutually = v[mutually_specified_ratings_indices]\n",
    "      \n",
    "    centralized_mutually_u = u_mutually - mean_u\n",
    "    centralized_mutually_v = v_mutually - mean_v\n",
    "\n",
    "    result = np.sum(np.multiply(centralized_mutually_u, centralized_mutually_v)) \n",
    "    result = result / (np.sqrt(np.sum(np.square(centralized_mutually_u))) * np.sqrt(np.sum(np.square(centralized_mutually_v))))\n",
    "\n",
    "    return result"
   ]
  },
  {
   "cell_type": "code",
   "execution_count": 308,
   "metadata": {},
   "outputs": [
    {
     "name": "stdout",
     "output_type": "stream",
     "text": [
      "0.8944271909999159\n",
      "0.9384742644069303\n",
      "1.0\n",
      "-1.0\n",
      "-0.8164965809277259\n"
     ]
    }
   ],
   "source": [
    "for i in range(ratings_matrix.shape[0]):\n",
    "    print(pearson(ratings_matrix[i, :], ratings_matrix[2, :]))"
   ]
  },
  {
   "cell_type": "code",
   "execution_count": 309,
   "metadata": {},
   "outputs": [],
   "source": [
    "def mean_centered(u):\n",
    "    return u - mean(u)"
   ]
  },
  {
   "cell_type": "code",
   "execution_count": 310,
   "metadata": {},
   "outputs": [
    {
     "name": "stdout",
     "output_type": "stream",
     "text": [
      "[5.5 4.8 2.  2.5 2. ]\n"
     ]
    }
   ],
   "source": [
    "print(all_user_mean_ratings(ratings_matrix))"
   ]
  },
  {
   "cell_type": "code",
   "execution_count": 322,
   "metadata": {},
   "outputs": [],
   "source": [
    "def get_user_similarity_value_for(u_index, ratings_matrix):\n",
    "    user_ratings = ratings_matrix[u_index, :]\n",
    "    similarity_value = np.array([pearson(ratings_matrix[i, :], user_ratings) for i in range(ratings_matrix.shape[0])])\n",
    "    return similarity_value"
   ]
  },
  {
   "cell_type": "code",
   "execution_count": 323,
   "metadata": {},
   "outputs": [],
   "source": [
    "def get_user_similarity_matrix(ratings_matrix):\n",
    "    similarity_matrix = []\n",
    "    for u_index in range(ratings_matrix.shape[0]):\n",
    "        similarity_value = get_user_similarity_value_for(u_index, ratings_matrix)\n",
    "        similarity_matrix.append(similarity_value)\n",
    "    return np.array(similarity_matrix)\n",
    "    "
   ]
  },
  {
   "cell_type": "code",
   "execution_count": 324,
   "metadata": {},
   "outputs": [],
   "source": [
    "user_similarity_matrix = get_user_similarity_matrix(ratings_matrix)"
   ]
  },
  {
   "cell_type": "code",
   "execution_count": 325,
   "metadata": {},
   "outputs": [
    {
     "name": "stdout",
     "output_type": "stream",
     "text": [
      "[[ 1.          0.70066562  0.89442719 -0.8992288  -0.82199494]\n",
      " [ 0.70066562  1.          0.93847426 -0.71713717 -0.89866916]\n",
      " [ 0.89442719  0.93847426  1.         -1.         -0.81649658]\n",
      " [-0.8992288  -0.71713717 -1.          1.          0.87287156]\n",
      " [-0.82199494 -0.89866916 -0.81649658  0.87287156  1.        ]]\n"
     ]
    }
   ],
   "source": [
    "print(user_similarity_matrix)"
   ]
  },
  {
   "cell_type": "markdown",
   "metadata": {},
   "source": [
    "Let $P_u(j)$ be the set of k closest users to target user u, who have specified rating for item j"
   ]
  },
  {
   "cell_type": "markdown",
   "metadata": {},
   "source": [
    "$$s_{uj} = r_{uj} - \\mu_u$$ <br>\n",
    "$$\\hat{r_{uj}} = \\mu_u + \\dfrac{\\Sigma_{v \\in P_u(j)} Sim(u, v).s_{vj}}{\\Sigma_{v \\in P_u(j)} |Sim(u, v)|} = \\mu_u + \\dfrac{\\Sigma_{v \\in P_u(j)} Sim(u, v).(r_{vj} - \\mu_v)}{\\Sigma_{v \\in P_u(j)} |Sim(u, v)|}$$"
   ]
  },
  {
   "cell_type": "code",
   "execution_count": 326,
   "metadata": {},
   "outputs": [],
   "source": [
    "def predict(u_index, i_index, k):\n",
    "    users_mean_rating = all_user_mean_ratings(ratings_matrix)\n",
    "    \n",
    "    similarity_value = user_similarity_matrix[u_index]\n",
    "    sorted_users_similar = np.argsort(similarity_value)\n",
    "    sorted_users_similar = np.flip(sorted_users_similar, axis=0)\n",
    "        \n",
    "    # only for this item\n",
    "    users_rated_item = specified_rating_indices(ratings_matrix[:, i_index])[0]\n",
    "#     print(np.array(users_rated_item))\n",
    "#     print(sorted_users_similar)\n",
    "    \n",
    "    ranked_similar_user_rated_item = [u for u in sorted_users_similar if u in users_rated_item]\n",
    "#     print(ranked_similar_user_rated_item)\n",
    "    \n",
    "    if k < len(ranked_similar_user_rated_item):\n",
    "        top_k_similar_user = ranked_similar_user_rated_item[0:k]   \n",
    "    else:\n",
    "        top_k_similar_user = np.array(ranked_similar_user_rated_item)\n",
    "        \n",
    "#     print(top_k_similar_user)\n",
    "    \n",
    "    # replace with mean_centered for user\n",
    "    \n",
    "    ratings_in_item = mean_centered_ratings_matrix[:, i_index]\n",
    "    top_k_ratings = ratings_in_item[top_k_similar_user]\n",
    "    \n",
    "    top_k_similarity_value = similarity_value[top_k_similar_user]\n",
    "#     print(top_k_ratings)\n",
    "#     print(top_k_similarity_value)\n",
    "    \n",
    "    r_hat = users_mean_rating[u_index] + np.sum(top_k_ratings * top_k_similarity_value)/np.sum(np.abs(top_k_similarity_value))\n",
    "    return r_hat"
   ]
  },
  {
   "cell_type": "code",
   "execution_count": 327,
   "metadata": {},
   "outputs": [
    {
     "name": "stdout",
     "output_type": "stream",
     "text": [
      "3.3463952993809016\n"
     ]
    }
   ],
   "source": [
    "print(predict(2, 0, 2))"
   ]
  },
  {
   "cell_type": "code",
   "execution_count": 328,
   "metadata": {},
   "outputs": [],
   "source": [
    "def predict_top_k_items_of_user(u_index, k_items, k_users):\n",
    "    items = []\n",
    "    for i_index in range(ratings_matrix.shape[1]):\n",
    "        if np.isnan(ratings_matrix[u_index][i_index]):\n",
    "            rating = predict(u_index, i_index, k_users)\n",
    "            items.append((i_index, rating))\n",
    "    items = sorted(items, key=lambda tup: tup[1])\n",
    "    return list(reversed(items))"
   ]
  },
  {
   "cell_type": "code",
   "execution_count": 329,
   "metadata": {},
   "outputs": [
    {
     "name": "stdout",
     "output_type": "stream",
     "text": [
      "[(0, 3.3463952993809016), (5, 0.8584109681112306)]\n"
     ]
    }
   ],
   "source": [
    "print(predict_top_k_items_of_user(2, 2, 2))"
   ]
  },
  {
   "cell_type": "code",
   "execution_count": 330,
   "metadata": {},
   "outputs": [
    {
     "data": {
      "text/plain": [
       "(5, 5)"
      ]
     },
     "execution_count": 330,
     "metadata": {},
     "output_type": "execute_result"
    }
   ],
   "source": [
    "similarity_matrix.shape"
   ]
  },
  {
   "cell_type": "markdown",
   "metadata": {},
   "source": [
    "## Similarity Function Variants"
   ]
  },
  {
   "cell_type": "markdown",
   "metadata": {},
   "source": [
    "Cosine function on the raw ratings rather than the mean-centered ratings:\n",
    "$$RawCosine(u, v) = \\dfrac{\\Sigma_{k \\in I_u \\cap I_v}r_{uk}.r_{vk}}{\\sqrt{\\Sigma_{k \\in I_u \\cap I_v}r_{uk}^2}.\\sqrt{\\Sigma_{k \\in I_u \\cap I_v}r_{vk}^2}}$$"
   ]
  },
  {
   "cell_type": "code",
   "execution_count": 331,
   "metadata": {},
   "outputs": [],
   "source": [
    "def raw_cosine(u, v):\n",
    "    specified_rating_indices_u = set(specified_rating_indices(u)[0])\n",
    "    specified_rating_indices_v = set(specified_rating_indices(v)[0])\n",
    "    \n",
    "    mutually_specified_ratings_indices = specified_rating_indices_u.intersection(specified_rating_indices_v)\n",
    "    mutually_specified_ratings_indices = list(mutually_specified_ratings_indices)\n",
    "    \n",
    "    u_mutually = u[mutually_specified_ratings_indices]\n",
    "    v_mutually = v[mutually_specified_ratings_indices]\n",
    "    \n",
    "    result = np.sum(np.multiply(u_mutually, v_mutually)) / (np.sqrt(np.sum(np.square(u_mutually))) * np.sqrt(np.sum(np.square(v_mutually))))\n",
    "\n",
    "    return result"
   ]
  },
  {
   "cell_type": "markdown",
   "metadata": {},
   "source": [
    "In some implementations of the raw cosine, the normalization factors in the denominator are based on all the specified items and not the mutually rated items:\n",
    "$$RawCosine(u, v) = \\dfrac{\\Sigma_{k \\in I_u \\cap I_v}r_{uk}.r_{vk}}{\\sqrt{\\Sigma_{k \\in I_u}r_{uk}^2}.\\sqrt{\\Sigma_{k \\in I_v}r_{vk}^2}}$$"
   ]
  },
  {
   "cell_type": "code",
   "execution_count": 338,
   "metadata": {},
   "outputs": [],
   "source": [
    "def raw_cosine_2(u, v):\n",
    "    specified_rating_indices_u = set(specified_rating_indices(u)[0])\n",
    "    specified_rating_indices_v = set(specified_rating_indices(v)[0])\n",
    "    \n",
    "    mutually_specified_ratings_indices = specified_rating_indices_u.intersection(specified_rating_indices_v)\n",
    "    mutually_specified_ratings_indices = list(mutually_specified_ratings_indices)\n",
    "    \n",
    "    specified_ratings_u = u[list(specified_rating_indices_u)]\n",
    "    specified_ratings_v = v[list(specified_rating_indices_v)]\n",
    "    \n",
    "    u_mutually = u[mutually_specified_ratings_indices]\n",
    "    v_mutually = v[mutually_specified_ratings_indices]\n",
    "    \n",
    "    result = np.sum(np.multiply(u_mutually, v_mutually)) / (np.sqrt(np.sum(np.square(specified_ratings_u))) * np.sqrt(np.sum(np.square(specified_ratings_v))))\n",
    "\n",
    "    return result"
   ]
  },
  {
   "cell_type": "code",
   "execution_count": 339,
   "metadata": {},
   "outputs": [
    {
     "name": "stdout",
     "output_type": "stream",
     "text": [
      "0.9561828874675148\n",
      "0.7766217620286882\n"
     ]
    }
   ],
   "source": [
    "user_0 = ratings_matrix[0, :]\n",
    "user_2 = ratings_matrix[2, :]\n",
    "\n",
    "print(raw_cosine(user_0, user_2))\n",
    "print(raw_cosine_2(user_0, user_2))"
   ]
  },
  {
   "cell_type": "markdown",
   "metadata": {},
   "source": [
    "In general, the Pearson correlation coefficient is preferable to the raw cosine because of the bias adjustment effect on mean-centering"
   ]
  },
  {
   "cell_type": "markdown",
   "metadata": {},
   "source": [
    "When two user have only a small number of ratings in common, the similarity function should be reduced with a discount factor to de-emphasize the importance of that user pair - $significance$ $weighting$. The discount factor kicks in when the nummber of commom ratings between the two usersis less than a particular threshold $\\beta$:\n",
    "$$DiscountedSim(u, v) = Sim(u, v). \\dfrac{min({|I_u \\cap I_v|, \\beta)}}{\\beta}$$"
   ]
  },
  {
   "cell_type": "code",
   "execution_count": 343,
   "metadata": {},
   "outputs": [],
   "source": [
    "def discounted_sim(u, v, beta):\n",
    "    specified_rating_indices_u = set(specified_rating_indices(u)[0])\n",
    "    specified_rating_indices_v = set(specified_rating_indices(v)[0])\n",
    "    \n",
    "    mutually_specified_ratings_indices = specified_rating_indices_u.intersection(specified_rating_indices_v)\n",
    "    mutually_specified_ratings_indices = list(mutually_specified_ratings_indices)\n",
    "    \n",
    "    result = pearson(u, v) * min(len(mutually_specified_ratings_indices), beta) / beta\n",
    "    \n",
    "    return result"
   ]
  },
  {
   "cell_type": "code",
   "execution_count": 348,
   "metadata": {},
   "outputs": [
    {
     "name": "stdout",
     "output_type": "stream",
     "text": [
      "0.7155417527999327\n"
     ]
    }
   ],
   "source": [
    "user_0 = ratings_matrix[0, :]\n",
    "user_2 = ratings_matrix[2, :]\n",
    "\n",
    "print(discounted_sim(user_0, user_2, 5))"
   ]
  },
  {
   "cell_type": "markdown",
   "metadata": {},
   "source": [
    "## Variants of the Prediction Function "
   ]
  },
  {
   "cell_type": "markdown",
   "metadata": {},
   "source": [
    "Standard deviation:\n",
    "$$\\sigma_u = \\sqrt{\\dfrac{\\Sigma_{j \\in I_u}(r_{uj} - \\mu_u)^2}{|I_u| - 1}}$$"
   ]
  },
  {
   "cell_type": "code",
   "execution_count": 357,
   "metadata": {},
   "outputs": [],
   "source": [
    "def standard_deviation(u):\n",
    "    specified_rating_indices_u = set(specified_rating_indices(u)[0])\n",
    "    specified_ratings_u = u[list(specified_rating_indices_u)]\n",
    "    m = mean(u)\n",
    "    \n",
    "#     print(specified_ratings_u)\n",
    "#     print(m)\n",
    "    result = np.sqrt(np.sum(np.square(specified_ratings_u - m)) / (len(list(specified_rating_indices_u)) - 1))\n",
    "    \n",
    "    return result"
   ]
  },
  {
   "cell_type": "code",
   "execution_count": 358,
   "metadata": {},
   "outputs": [
    {
     "name": "stdout",
     "output_type": "stream",
     "text": [
      "1.1547005383792515\n"
     ]
    }
   ],
   "source": [
    "print(standard_deviation(user_2))"
   ]
  },
  {
   "cell_type": "markdown",
   "metadata": {},
   "source": [
    "Standardized ratings:\n",
    "$$z_{uj} = \\dfrac{r_{uj} - \\mu_u}{\\sigma_u} = \\dfrac{s_{uj}}{\\sigma_u}$$"
   ]
  },
  {
   "cell_type": "code",
   "execution_count": 376,
   "metadata": {},
   "outputs": [],
   "source": [
    "def get_standardized_ratings(u):\n",
    "    specified_rating_indices_u = set(specified_rating_indices(u)[0])\n",
    "    specified_ratings_u = u[list(specified_rating_indices_u)]\n",
    "    m = mean(u)\n",
    "    \n",
    "    sigma = standard_deviation(u)\n",
    "    \n",
    "    result = (specified_ratings_u - m) / sigma\n",
    "\n",
    "    r = []\n",
    "    count = 0\n",
    "    for i in range(len(u)):\n",
    "        if np.isnan(u[i]):\n",
    "            r.append(nan)\n",
    "        else:\n",
    "            r.append(result[count])\n",
    "            count = count + 1\n",
    "    return r"
   ]
  },
  {
   "cell_type": "code",
   "execution_count": 377,
   "metadata": {},
   "outputs": [
    {
     "name": "stdout",
     "output_type": "stream",
     "text": [
      "[nan, 0.8660254037844387, 0.8660254037844387, -0.8660254037844387, -0.8660254037844387, nan]\n"
     ]
    }
   ],
   "source": [
    "print(get_standardized_ratings(user_2))"
   ]
  },
  {
   "cell_type": "code",
   "execution_count": 378,
   "metadata": {},
   "outputs": [],
   "source": [
    "def get_standardized_ratings_matrix(ratings_matrix):\n",
    "    result = []\n",
    "    for u_index in range(ratings_matrix.shape[0]):\n",
    "        u = get_standardized_ratings(ratings_matrix[u_index, :])\n",
    "        result.append(u)\n",
    "    return np.array(result)"
   ]
  },
  {
   "cell_type": "code",
   "execution_count": 379,
   "metadata": {},
   "outputs": [
    {
     "name": "stdout",
     "output_type": "stream",
     "text": [
      "[[ 1.08821438  0.36273813  1.08821438 -1.08821438 -0.36273813 -1.08821438]\n",
      " [ 0.73029674  1.33887736         nan -0.4868645  -1.09544512 -0.4868645 ]\n",
      " [        nan  0.8660254   0.8660254  -0.8660254  -0.8660254          nan]\n",
      " [-1.43019388 -0.47673129 -0.47673129  0.47673129  0.47673129  1.43019388]\n",
      " [-1.                 nan -1.          0.          1.          1.        ]]\n"
     ]
    }
   ],
   "source": [
    "standardized_ratings_matrix = get_standardized_ratings_matrix(ratings_matrix)\n",
    "print(standardized_ratings_matrix)"
   ]
  },
  {
   "cell_type": "markdown",
   "metadata": {},
   "source": [
    "Let $P_u(j)$ denote the set of top-k similar users of target user $u$, for which the ratings of item $j$ have been observed:\n",
    "$$\\hat{r_{uj} = \\mu_u + \\sigma_u\\dfrac{\\Sigma_{v \\in P_u(j)}Sim(u, v).z_{vj}}{\\Sigma_{v \\in P_u(j)}|Sim(u, v)|}}$$"
   ]
  },
  {
   "cell_type": "code",
   "execution_count": 380,
   "metadata": {},
   "outputs": [],
   "source": [
    "def predict_2(u_index, i_index, k):\n",
    "    users_mean_rating = all_user_mean_ratings(ratings_matrix)\n",
    "    \n",
    "    similarity_value = user_similarity_matrix[u_index]\n",
    "    sorted_users_similar = np.argsort(similarity_value)\n",
    "    sorted_users_similar = np.flip(sorted_users_similar, axis=0)\n",
    "        \n",
    "    # only for this item\n",
    "    users_rated_item = specified_rating_indices(ratings_matrix[:, i_index])[0]\n",
    "#     print(np.array(users_rated_item))\n",
    "#     print(sorted_users_similar)\n",
    "    \n",
    "    ranked_similar_user_rated_item = [u for u in sorted_users_similar if u in users_rated_item]\n",
    "#     print(ranked_similar_user_rated_item)\n",
    "    \n",
    "    if k < len(ranked_similar_user_rated_item):\n",
    "        top_k_similar_user = ranked_similar_user_rated_item[0:k]   \n",
    "    else:\n",
    "        top_k_similar_user = np.array(ranked_similar_user_rated_item)\n",
    "        \n",
    "#     print(top_k_similar_user)\n",
    "    \n",
    "    # replace with mean_centered for user\n",
    "    \n",
    "    ratings_in_item = standardized_ratings_matrix[:, i_index]\n",
    "    top_k_ratings = ratings_in_item[top_k_similar_user]\n",
    "\n",
    "    top_k_similarity_value = similarity_value[top_k_similar_user]\n",
    "#     print(top_k_ratings)\n",
    "#     print(top_k_similarity_value)\n",
    "\n",
    "    sigma = standard_deviation(u)\n",
    "    \n",
    "    r_hat = users_mean_rating[u_index] + sigma * np.sum(top_k_ratings * top_k_similarity_value)/np.sum(np.abs(top_k_similarity_value))\n",
    "    return r_hat"
   ]
  },
  {
   "cell_type": "code",
   "execution_count": 381,
   "metadata": {},
   "outputs": [
    {
     "name": "stdout",
     "output_type": "stream",
     "text": [
      "3.2473943005282955\n"
     ]
    }
   ],
   "source": [
    "print(predict_2(2, 0, 2))"
   ]
  },
  {
   "cell_type": "markdown",
   "metadata": {},
   "source": [
    "One problem with Z-score is that the predicted ratings might frequently be outside the range og permissible ratings."
   ]
  },
  {
   "cell_type": "markdown",
   "metadata": {},
   "source": [
    "While the value of Sim(u, v) was chosen the be the Pearson correlation coefficient, a commonly used practice is to amplify it by exponentiating it to the power of $\\alpha$:\n",
    "$$Sim(u, v) = Pearson(u, v)^\\alpha$$"
   ]
  },
  {
   "cell_type": "code",
   "execution_count": 382,
   "metadata": {},
   "outputs": [],
   "source": [
    "def pearson_2(u, v, alpha):\n",
    "    return np.power(pearson(u, v), alpha)"
   ]
  },
  {
   "cell_type": "code",
   "execution_count": 384,
   "metadata": {},
   "outputs": [
    {
     "name": "stdout",
     "output_type": "stream",
     "text": [
      "0.8746896591546224\n"
     ]
    }
   ],
   "source": [
    "print(pearson_2(user_0, user_2, 1.2))"
   ]
  },
  {
   "cell_type": "markdown",
   "metadata": {},
   "source": [
    "## Impact of the Long Tail "
   ]
  },
  {
   "cell_type": "markdown",
   "metadata": {},
   "source": [
    "Just as the notion of Inverse Document Frequency (idf) exists in the information retrieve literature, one can use the notion of Inverse User Frequency in this case. If $m_j$ is the number of ratings of item $j$, and $m$ is the total number of users, then the weighted $w_j$ of the item $j$ is set to the following:\n",
    "$$w_j = \\log{\\dfrac{m}{m_j}}$$ <br>\n",
    "Then the Pearson correlation coefficient can be modified as follows:\n",
    "$$Pearson(u, v) = \\dfrac{\\Sigma_{k \\in I_u \\cap I_v}(r_{uk} - \\mu_u)(r_{vk} - \\mu_v)}{\\sqrt{\\Sigma_{k \\in I_u \\cap I_v}w_k.(r_{uk} - \\mu_u)^2}\\sqrt{\\Sigma_{k \\in I_u \\cap I_v}w_k.(r_{vk} - \\mu_v)^2}}$$"
   ]
  },
  {
   "cell_type": "code",
   "execution_count": 392,
   "metadata": {},
   "outputs": [],
   "source": [
    "def get_rated_item_indices(ratings_matrix):\n",
    "    result = []\n",
    "    \n",
    "    for i_index in range(ratings_matrix.shape[1]):\n",
    "        item = ratings_matrix[:, i_index]\n",
    "        result.append(specified_rating_indices(item)[0])\n",
    "    \n",
    "    return result"
   ]
  },
  {
   "cell_type": "code",
   "execution_count": 395,
   "metadata": {},
   "outputs": [
    {
     "name": "stdout",
     "output_type": "stream",
     "text": [
      "[(0, 1, 3, 4), (0, 1, 2, 3), (0, 2, 3, 4), (0, 1, 2, 3, 4), (0, 1, 2, 3, 4), (0, 1, 3, 4)]\n"
     ]
    }
   ],
   "source": [
    "rated_item_indices = get_rated_item_indices(ratings_matrix=ratings_matrix)\n",
    "print(rated_item_indices)"
   ]
  },
  {
   "cell_type": "code",
   "execution_count": 406,
   "metadata": {},
   "outputs": [],
   "source": [
    "def pearson_3(u, v):\n",
    "    m_j = np.array([len(list(i)) for i in rated_item_indices])\n",
    "    w = np.log(ratings_matrix.shape[0] / m_j)\n",
    "    \n",
    "    mean_u = mean(u)\n",
    "    mean_v = mean(v)\n",
    "    \n",
    "    specified_rating_indices_u = set(specified_rating_indices(u)[0])\n",
    "    specified_rating_indices_v = set(specified_rating_indices(v)[0])\n",
    "    \n",
    "    mutually_specified_ratings_indices = specified_rating_indices_u.intersection(specified_rating_indices_v)\n",
    "    mutually_specified_ratings_indices = list(mutually_specified_ratings_indices)\n",
    "    \n",
    "    u_mutually = u[mutually_specified_ratings_indices]\n",
    "    v_mutually = v[mutually_specified_ratings_indices]\n",
    "      \n",
    "    centralized_mutually_u = u_mutually - mean_u\n",
    "    centralized_mutually_v = v_mutually - mean_v\n",
    "\n",
    "    w_k = w[mutually_specified_ratings_indices]\n",
    "    \n",
    "    result = np.sum(np.multiply(np.multiply(centralized_mutually_u, centralized_mutually_v), w_k))\n",
    "    result = result / (np.sqrt(np.sum(np.multiply(w_k, np.square(centralized_mutually_u)))) * np.sqrt(np.sum(np.multiply(w_k, np.square(centralized_mutually_v)))))\n",
    "\n",
    "    return result"
   ]
  },
  {
   "cell_type": "code",
   "execution_count": 407,
   "metadata": {},
   "outputs": [
    {
     "name": "stdout",
     "output_type": "stream",
     "text": [
      "0.8944271909999159\n"
     ]
    }
   ],
   "source": [
    "print(pearson_3(user_0, user_2))"
   ]
  },
  {
   "cell_type": "markdown",
   "metadata": {},
   "source": [
    "# Item-Based Neighborhood Models "
   ]
  },
  {
   "cell_type": "code",
   "execution_count": 409,
   "metadata": {},
   "outputs": [
    {
     "data": {
      "text/plain": [
       "array([[ 1.5,  0.5,  1.5, -1.5, -0.5, -1.5],\n",
       "       [ 1.2,  2.2,  nan, -0.8, -1.8, -0.8],\n",
       "       [ nan,  1. ,  1. , -1. , -1. ,  nan],\n",
       "       [-1.5, -0.5, -0.5,  0.5,  0.5,  1.5],\n",
       "       [-1. ,  nan, -1. ,  0. ,  1. ,  1. ]])"
      ]
     },
     "execution_count": 409,
     "metadata": {},
     "output_type": "execute_result"
    }
   ],
   "source": [
    "mean_centered_ratings_matrix #s_uj"
   ]
  },
  {
   "cell_type": "markdown",
   "metadata": {},
   "source": [
    "Let $U_i$ be the indices of the set if users who have rated item $i$<br>\n",
    "The $adjusted$ cosine similarity between the items (columns) $i$ and $j$ is defined as follows:\n",
    "$$AdjustedCosine(i, j) =  \\dfrac{\\Sigma_{u \\in U_i \\cap U_j}s_{ui}.s_{uj}}{\\sqrt{\\Sigma_{u \\in U_i \\cap U_j}s_{ui}^2}\\sqrt{\\Sigma_{u \\in U_i \\cap U_j}s_{uj}^2}}$$"
   ]
  },
  {
   "cell_type": "code",
   "execution_count": 411,
   "metadata": {},
   "outputs": [],
   "source": [
    "#get i, j from mean_centered_ratings_matrix\n",
    "def adjusted_cosine(i, j):\n",
    "    specified_rating_indices_i = set(specified_rating_indices(i)[0])\n",
    "    specified_rating_indices_j = set(specified_rating_indices(j)[0])\n",
    "    \n",
    "    mutually_specified_ratings_indices = specified_rating_indices_i.intersection(specified_rating_indices_j)\n",
    "    mutually_specified_ratings_indices = list(mutually_specified_ratings_indices)\n",
    "    \n",
    "    i_mutually = i[mutually_specified_ratings_indices]\n",
    "    j_mutually = j[mutually_specified_ratings_indices]\n",
    "    \n",
    "    result = np.sum(np.multiply(i_mutually, j_mutually)) \n",
    "    result = result / (np.sqrt(np.sum(np.square(i_mutually))) * np.sqrt(np.sum(np.square(j_mutually))))\n",
    "\n",
    "    return result"
   ]
  },
  {
   "cell_type": "code",
   "execution_count": 413,
   "metadata": {},
   "outputs": [
    {
     "name": "stdout",
     "output_type": "stream",
     "text": [
      "0.9116846116771036\n"
     ]
    }
   ],
   "source": [
    "item_0 = mean_centered_ratings_matrix[:, 0]\n",
    "item_2 = mean_centered_ratings_matrix[:, 2]\n",
    "\n",
    "print(adjusted_cosine(item_0, item_2))"
   ]
  },
  {
   "cell_type": "code",
   "execution_count": 445,
   "metadata": {},
   "outputs": [],
   "source": [
    "def get_item_similarity_value_for_item_index(i_index, ratings_matrix):\n",
    "    mean_centered_ratings_matrix = get_mean_centered_ratings_matrix(ratings_matrix)\n",
    "    \n",
    "    user_ratings = mean_centered_ratings_matrix[:, i_index]\n",
    "    similarity_value = np.array([adjusted_cosine(mean_centered_ratings_matrix[:, i], user_ratings) for i in range(ratings_matrix.shape[1])])\n",
    "    return similarity_value"
   ]
  },
  {
   "cell_type": "code",
   "execution_count": 446,
   "metadata": {},
   "outputs": [],
   "source": [
    "def get_item_similarity_matrix(ratings_matrix):  \n",
    "    similarity_matrix = []\n",
    "    for i_index in range(mean_centered_ratings_matrix.shape[1]):\n",
    "        similarity_value = get_item_similarity_value_for_item_index(i_index, ratings_matrix)\n",
    "        similarity_matrix.append(similarity_value)\n",
    "    return np.array(similarity_matrix)   "
   ]
  },
  {
   "cell_type": "code",
   "execution_count": 447,
   "metadata": {},
   "outputs": [
    {
     "name": "stdout",
     "output_type": "stream",
     "text": [
      "[[ 1.          0.73508319  0.91168461 -0.84830227 -0.8124881  -0.9896203 ]\n",
      " [ 0.73508319  1.          0.87287156 -0.73391041 -0.99599886 -0.62225073]\n",
      " [ 0.91168461  0.87287156  1.         -0.8819171  -0.89442719 -0.91168461]\n",
      " [-0.84830227 -0.73391041 -0.8819171   1.          0.70567109  0.82899588]\n",
      " [-0.8124881  -0.99599886 -0.89442719  0.70567109  1.          0.73033626]\n",
      " [-0.9896203  -0.62225073 -0.91168461  0.82899588  0.73033626  1.        ]]\n"
     ]
    }
   ],
   "source": [
    "item_similarity_matrix = get_item_similarity_matrix(ratings_matrix)\n",
    "print(item_similarity_matrix)"
   ]
  },
  {
   "cell_type": "markdown",
   "metadata": {},
   "source": [
    "Let top-k most similar items to item $t$, for which the user $u$ has specified ratings, be denoted by $Q_t(u)$ <br>\n",
    "The predicted rating $\\hat{r_{ut}}$ of user $u$ for target item $t$ is as follows:<br>\n",
    "$$\\hat{r_{ut}} = \\dfrac{\\Sigma_{j \\in Q_t(u)}AdjustedCosine(j, t).r_{uj}}{\\Sigma_{j \\in Q_t(u)}|AdjustedCosine(j, t)|}$$\n"
   ]
  },
  {
   "cell_type": "code",
   "execution_count": 450,
   "metadata": {},
   "outputs": [],
   "source": [
    "def item_based_predict(u_index, i_index, k):\n",
    "    mean_centered_ratings_matrix = get_mean_centered_ratings_matrix(ratings_matrix)\n",
    "    \n",
    "    similarity_value = item_similarity_matrix[i_index]\n",
    "    sorted_items_similar = np.argsort(similarity_value)\n",
    "    sorted_items_similar = np.flip(sorted_items_similar, axis=0)\n",
    "        \n",
    "    # only for this item\n",
    "    items_rated_by_user = specified_rating_indices(ratings_matrix[u_index, :])[0]\n",
    "    print(np.array(items_rated_by_user))\n",
    "    print(sorted_items_similar)\n",
    "    \n",
    "    ranked_similar_items = [i for i in sorted_items_similar if i in items_rated_by_user]\n",
    "    print(ranked_similar_items)\n",
    "    \n",
    "    if k < len(ranked_similar_items):\n",
    "        top_k_similar_item = ranked_similar_items[0:k]   \n",
    "    else:\n",
    "        top_k_similar_item = np.array(ranked_similar_items)\n",
    "        \n",
    "    print(top_k_similar_item)\n",
    "        \n",
    "    ratings_of_user = ratings_matrix[u_index, :]\n",
    "    top_k_ratings = ratings_of_user[top_k_similar_item]\n",
    "    \n",
    "    top_k_similarity_value = similarity_value[top_k_similar_item]\n",
    "    print(top_k_ratings)\n",
    "    print(top_k_similarity_value)\n",
    "    \n",
    "    r_hat = np.sum(top_k_ratings * top_k_similarity_value)/np.sum(np.abs(top_k_similarity_value))\n",
    "    return r_hat"
   ]
  },
  {
   "cell_type": "code",
   "execution_count": 453,
   "metadata": {},
   "outputs": [
    {
     "name": "stdout",
     "output_type": "stream",
     "text": [
      "[1 2 3 4]\n",
      "[0 2 1 4 3 5]\n",
      "[2, 1, 4, 3]\n",
      "[2, 1]\n",
      "[3. 3.]\n",
      "[0.91168461 0.73508319]\n",
      "2.9999999999999996\n"
     ]
    }
   ],
   "source": [
    "print(item_based_predict(2, 0, 2))"
   ]
  },
  {
   "cell_type": "code",
   "execution_count": 454,
   "metadata": {},
   "outputs": [],
   "source": [
    "def predict_top_k_user_of_item(i_index, k_items, k_users):\n",
    "    users = []\n",
    "    for u_index in range(ratings_matrix.shape[0]):\n",
    "        if np.isnan(ratings_matrix[u_index][i_index]):\n",
    "            rating = predict(u_index, i_index, k_items)\n",
    "            users.append((u_index, rating))\n",
    "    users = sorted(users, key=lambda tup: tup[1])\n",
    "    return list(reversed(users))"
   ]
  },
  {
   "cell_type": "code",
   "execution_count": 455,
   "metadata": {},
   "outputs": [
    {
     "name": "stdout",
     "output_type": "stream",
     "text": [
      "[(1, 6.013729659957365)]\n"
     ]
    }
   ],
   "source": [
    "print(predict_top_k_user_of_item(2, 2, 2))"
   ]
  },
  {
   "cell_type": "markdown",
   "metadata": {},
   "source": [
    "## Add Metrics"
   ]
  },
  {
   "cell_type": "code",
   "execution_count": null,
   "metadata": {},
   "outputs": [],
   "source": []
  },
  {
   "cell_type": "markdown",
   "metadata": {},
   "source": [
    "# Clustering and Neighborhood-Based Methods"
   ]
  },
  {
   "cell_type": "code",
   "execution_count": 468,
   "metadata": {},
   "outputs": [
    {
     "name": "stdout",
     "output_type": "stream",
     "text": [
      "[[ 1.5  0.5  1.5 -1.5 -0.5 -1.5]\n",
      " [ 1.2  2.2  0.  -0.8 -1.8 -0.8]\n",
      " [ 0.   1.   1.  -1.  -1.   0. ]\n",
      " [-1.5 -0.5 -0.5  0.5  0.5  1.5]\n",
      " [-1.   0.  -1.   0.   1.   1. ]]\n",
      "[[ 1.5  0.5  1.5 -1.5 -0.5 -1.5]\n",
      " [ 1.2  2.2  nan -0.8 -1.8 -0.8]\n",
      " [ nan  1.   1.  -1.  -1.   nan]\n",
      " [-1.5 -0.5 -0.5  0.5  0.5  1.5]\n",
      " [-1.   nan -1.   0.   1.   1. ]]\n"
     ]
    }
   ],
   "source": [
    "# bool_nan = np.isnan(mean_centered_ratings_matrix)\n",
    "added_0_mean_centered_ratings_matrix = []\n",
    "shape = mean_centered_ratings_matrix.shape\n",
    "for row in mean_centered_ratings_matrix:\n",
    "    for element in row:\n",
    "        if np.isnan(element):\n",
    "            element = 0.0\n",
    "        added_0_mean_centered_ratings_matrix.append(element)\n",
    "\n",
    "added_0_mean_centered_ratings_matrix = np.array(added_0_mean_centered_ratings_matrix)\n",
    "added_0_mean_centered_ratings_matrix = np.reshape(added_0_mean_centered_ratings_matrix, [shape[0], shape[1]])\n",
    "print(added_0_mean_centered_ratings_matrix)\n",
    "print(mean_centered_ratings_matrix)"
   ]
  },
  {
   "cell_type": "code",
   "execution_count": 472,
   "metadata": {},
   "outputs": [
    {
     "name": "stdout",
     "output_type": "stream",
     "text": [
      "Centers found by scikit-learn:\n",
      "[[-1.25       -0.25       -0.75        0.25        0.75        1.25      ]\n",
      " [ 0.9         1.23333333  0.83333333 -1.1        -1.1        -0.76666667]]\n",
      "[1 1 1 0 0]\n"
     ]
    }
   ],
   "source": [
    "from sklearn.cluster import KMeans\n",
    "kmeans = KMeans(n_clusters=2, random_state=0).fit(added_0_mean_centered_ratings_matrix)\n",
    "print('Centers found by scikit-learn:')\n",
    "print(kmeans.cluster_centers_)\n",
    "pred_label = kmeans.predict(added_0_mean_centered_ratings_matrix)\n",
    "print(pred_label)\n",
    "# kmeans_display(added_0_mean_centered_ratings_matrix, pred_label)"
   ]
  },
  {
   "cell_type": "code",
   "execution_count": null,
   "metadata": {},
   "outputs": [],
   "source": []
  },
  {
   "cell_type": "code",
   "execution_count": null,
   "metadata": {},
   "outputs": [],
   "source": []
  },
  {
   "cell_type": "code",
   "execution_count": null,
   "metadata": {},
   "outputs": [],
   "source": []
  },
  {
   "cell_type": "code",
   "execution_count": null,
   "metadata": {},
   "outputs": [],
   "source": []
  },
  {
   "cell_type": "code",
   "execution_count": null,
   "metadata": {},
   "outputs": [],
   "source": []
  }
 ],
 "metadata": {
  "kernelspec": {
   "display_name": "Python 3",
   "language": "python",
   "name": "python3"
  },
  "language_info": {
   "codemirror_mode": {
    "name": "ipython",
    "version": 3
   },
   "file_extension": ".py",
   "mimetype": "text/x-python",
   "name": "python",
   "nbconvert_exporter": "python",
   "pygments_lexer": "ipython3",
   "version": "3.6.5"
  }
 },
 "nbformat": 4,
 "nbformat_minor": 2
}
