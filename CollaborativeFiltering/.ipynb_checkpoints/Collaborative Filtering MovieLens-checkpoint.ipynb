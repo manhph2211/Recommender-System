{
 "cells": [
  {
   "cell_type": "markdown",
   "metadata": {},
   "source": [
    "# Introduction"
   ]
  },
  {
   "cell_type": "markdown",
   "metadata": {},
   "source": [
    "In this tutorial, we will implement some algorithms in Collaborative Filtering Algorithm with MovieLens dataset. All theories used in this tutorial could be found in *Collaborative Filtering.ipynb* file. <br>\n",
    "**Note**: We need to implement with this dataset because we will compare results in variant models."
   ]
  },
  {
   "cell_type": "markdown",
   "metadata": {},
   "source": [
    "# Implementation"
   ]
  },
  {
   "cell_type": "markdown",
   "metadata": {},
   "source": [
    "## Preprocessing Data"
   ]
  },
  {
   "cell_type": "markdown",
   "metadata": {},
   "source": [
    "### Get data"
   ]
  },
  {
   "cell_type": "code",
   "execution_count": 1,
   "metadata": {},
   "outputs": [
    {
     "name": "stderr",
     "output_type": "stream",
     "text": [
      "/anaconda3/lib/python3.6/site-packages/h5py/__init__.py:36: FutureWarning: Conversion of the second argument of issubdtype from `float` to `np.floating` is deprecated. In future, it will be treated as `np.float64 == np.dtype(float).type`.\n",
      "  from ._conv import register_converters as _register_converters\n"
     ]
    }
   ],
   "source": [
    "import numpy as np\n",
    "import tensorflow as tf\n",
    "import sklearn\n",
    "import csv\n",
    "import pandas as pd"
   ]
  },
  {
   "cell_type": "code",
   "execution_count": 2,
   "metadata": {},
   "outputs": [],
   "source": [
    "import os\n",
    "\n",
    "dir_path = os.path.abspath(os.path.join('', os.pardir))"
   ]
  },
  {
   "cell_type": "code",
   "execution_count": 3,
   "metadata": {},
   "outputs": [],
   "source": [
    "names = ['user_id', 'item_id', 'rating', 'timestamp']\n",
    "df = pd.read_csv(os.path.join(dir_path, 'data/ml-100k/u.data'), names=names, sep='\\t')"
   ]
  },
  {
   "cell_type": "code",
   "execution_count": 4,
   "metadata": {},
   "outputs": [],
   "source": [
    "n_users = df.user_id.unique().shape[0]\n",
    "n_items = df.item_id.unique().shape[0]"
   ]
  },
  {
   "cell_type": "code",
   "execution_count": 5,
   "metadata": {},
   "outputs": [],
   "source": [
    "nan = np.nan\n",
    "ratings_matrix = np.zeros((n_users, n_items)) * nan\n",
    "for line in df.itertuples():\n",
    "    ratings_matrix[line[1]-1, line[2]-1] = line[3]"
   ]
  },
  {
   "cell_type": "code",
   "execution_count": 6,
   "metadata": {},
   "outputs": [
    {
     "name": "stdout",
     "output_type": "stream",
     "text": [
      "[[ 5.  3.  4. ... nan nan nan]\n",
      " [ 4. nan nan ... nan nan nan]\n",
      " [nan nan nan ... nan nan nan]\n",
      " ...\n",
      " [ 5. nan nan ... nan nan nan]\n",
      " [nan nan nan ... nan nan nan]\n",
      " [nan  5. nan ... nan nan nan]]\n"
     ]
    }
   ],
   "source": [
    "print(ratings_matrix)"
   ]
  },
  {
   "cell_type": "markdown",
   "metadata": {},
   "source": [
    "### Work with data"
   ]
  },
  {
   "cell_type": "code",
   "execution_count": 7,
   "metadata": {},
   "outputs": [],
   "source": [
    "# indices for vector\n",
    "def specified_rating_indices(u):\n",
    "    return np.where(np.isfinite(u))"
   ]
  },
  {
   "cell_type": "code",
   "execution_count": 8,
   "metadata": {},
   "outputs": [],
   "source": [
    "# mean rating for each user i using his specified rating\n",
    "def mean(u):\n",
    "    # may use specified_rating_indices but use more time\n",
    "    specified_ratings = u[specified_rating_indices(u)]#u[np.isfinite(u)]\n",
    "    m = sum(specified_ratings)/np.shape(specified_ratings)[0]\n",
    "    return m"
   ]
  },
  {
   "cell_type": "code",
   "execution_count": 9,
   "metadata": {},
   "outputs": [],
   "source": [
    "def all_user_mean_ratings(ratings_matrix):\n",
    "    return np.array([mean(ratings_matrix[u, :]) for u in range(ratings_matrix.shape[0])])"
   ]
  },
  {
   "cell_type": "code",
   "execution_count": 10,
   "metadata": {},
   "outputs": [],
   "source": [
    "def get_mean_centered_ratings_matrix(ratings_matrix):\n",
    "    users_mean_rating = all_user_mean_ratings(ratings_matrix)\n",
    "    mean_centered_ratings_matrix = ratings_matrix - np.reshape(users_mean_rating, [-1, 1])\n",
    "    return mean_centered_ratings_matrix"
   ]
  },
  {
   "cell_type": "code",
   "execution_count": 11,
   "metadata": {},
   "outputs": [],
   "source": [
    "mean_centered_ratings_matrix = get_mean_centered_ratings_matrix(ratings_matrix)"
   ]
  },
  {
   "cell_type": "markdown",
   "metadata": {},
   "source": [
    "# Implementation"
   ]
  },
  {
   "cell_type": "code",
   "execution_count": 12,
   "metadata": {},
   "outputs": [],
   "source": [
    "def pearson(u, v):\n",
    "    mean_u = mean(u)\n",
    "    mean_v = mean(v)\n",
    "    \n",
    "    specified_rating_indices_u = set(specified_rating_indices(u)[0])\n",
    "    specified_rating_indices_v = set(specified_rating_indices(v)[0])\n",
    "    \n",
    "    mutually_specified_ratings_indices = specified_rating_indices_u.intersection(specified_rating_indices_v)\n",
    "    mutually_specified_ratings_indices = list(mutually_specified_ratings_indices)\n",
    "    \n",
    "    u_mutually = u[mutually_specified_ratings_indices]\n",
    "    v_mutually = v[mutually_specified_ratings_indices]\n",
    "      \n",
    "    centralized_mutually_u = u_mutually - mean_u\n",
    "    centralized_mutually_v = v_mutually - mean_v\n",
    "#     print(np.sqrt(np.sum(np.square(centralized_mutually_u))))\n",
    "\n",
    "    result = np.sum(np.multiply(centralized_mutually_u, centralized_mutually_v)) \n",
    "    result = result / (np.sqrt(np.sum(np.square(centralized_mutually_u))) * np.sqrt(np.sum(np.square(centralized_mutually_v))))\n",
    "    \n",
    "    return result"
   ]
  },
  {
   "cell_type": "code",
   "execution_count": 13,
   "metadata": {},
   "outputs": [
    {
     "name": "stdout",
     "output_type": "stream",
     "text": [
      "0.13955602954011723\n"
     ]
    }
   ],
   "source": [
    "print(pearson(ratings_matrix[1, :], ratings_matrix[2, :]))"
   ]
  },
  {
   "cell_type": "code",
   "execution_count": 14,
   "metadata": {},
   "outputs": [],
   "source": [
    "from sklearn.metrics.pairwise import cosine_similarity\n",
    "from surprise import similarities"
   ]
  },
  {
   "cell_type": "code",
   "execution_count": 15,
   "metadata": {},
   "outputs": [
    {
     "name": "stdout",
     "output_type": "stream",
     "text": [
      "0.13955602954011723\n"
     ]
    }
   ],
   "source": [
    "print(pearson(ratings_matrix[1, :], ratings_matrix[2, :]))"
   ]
  },
  {
   "cell_type": "code",
   "execution_count": 16,
   "metadata": {},
   "outputs": [],
   "source": [
    "def mean_centered(u):\n",
    "    return u - mean(u)"
   ]
  },
  {
   "cell_type": "code",
   "execution_count": 17,
   "metadata": {},
   "outputs": [],
   "source": [
    "def get_user_similarity_value_for(u_index, ratings_matrix):\n",
    "    user_ratings = ratings_matrix[u_index, :]\n",
    "    similarity_value = np.array([pearson(ratings_matrix[i, :], user_ratings) for i in range(ratings_matrix.shape[0])])\n",
    "    return similarity_value"
   ]
  },
  {
   "cell_type": "code",
   "execution_count": 18,
   "metadata": {},
   "outputs": [],
   "source": [
    "from tqdm import tqdm\n",
    "def get_user_similarity_matrix(ratings_matrix):\n",
    "    similarity_matrix = []\n",
    "    for u_index in tqdm(range(ratings_matrix.shape[0])):\n",
    "        similarity_value = get_user_similarity_value_for(u_index, ratings_matrix)\n",
    "        similarity_matrix.append(similarity_value)\n",
    "    return np.array(similarity_matrix)\n",
    "    "
   ]
  },
  {
   "cell_type": "code",
   "execution_count": 19,
   "metadata": {},
   "outputs": [
    {
     "name": "stderr",
     "output_type": "stream",
     "text": [
      "  0%|          | 1/943 [00:00<02:46,  5.67it/s]/anaconda3/lib/python3.6/site-packages/ipykernel_launcher.py:19: RuntimeWarning: invalid value encountered in double_scalars\n",
      "100%|██████████| 943/943 [01:57<00:00,  7.99it/s]\n"
     ]
    }
   ],
   "source": [
    "user_similarity_matrix = get_user_similarity_matrix(ratings_matrix)"
   ]
  },
  {
   "cell_type": "code",
   "execution_count": 20,
   "metadata": {},
   "outputs": [],
   "source": [
    "users_mean_rating = all_user_mean_ratings(ratings_matrix)\n",
    "\n",
    "def predict(u_index, i_index, k):\n",
    "    \n",
    "    similarity_value = user_similarity_matrix[u_index]\n",
    "    sorted_users_similar = np.argsort(similarity_value)\n",
    "    sorted_users_similar = np.flip(sorted_users_similar, axis=0)\n",
    "        \n",
    "    # only for this item\n",
    "    users_rated_item = specified_rating_indices(ratings_matrix[:, i_index])[0]\n",
    "\n",
    "    set_2 = frozenset(users_rated_item)\n",
    "    ranked_similar_user_rated_item = [u for u in sorted_users_similar if u in set_2] \n",
    "    \n",
    "    if k < len(ranked_similar_user_rated_item):\n",
    "        top_k_similar_user = ranked_similar_user_rated_item[0:k]   \n",
    "    else:\n",
    "        top_k_similar_user = np.array(ranked_similar_user_rated_item)\n",
    "            \n",
    "    # replace with mean_centered for user\n",
    "    \n",
    "    ratings_in_item = mean_centered_ratings_matrix[:, i_index]\n",
    "    top_k_ratings = ratings_in_item[top_k_similar_user]\n",
    "    \n",
    "    top_k_similarity_value = similarity_value[top_k_similar_user]\n",
    "\n",
    "    r_hat = users_mean_rating[u_index] + np.sum(top_k_ratings * top_k_similarity_value)/np.sum(np.abs(top_k_similarity_value))\n",
    "    return r_hat"
   ]
  },
  {
   "cell_type": "code",
   "execution_count": 21,
   "metadata": {},
   "outputs": [
    {
     "name": "stderr",
     "output_type": "stream",
     "text": [
      "  4%|▎         | 34/943 [00:10<04:52,  3.11it/s]/anaconda3/lib/python3.6/site-packages/ipykernel_launcher.py:27: RuntimeWarning: invalid value encountered in double_scalars\n",
      "100%|██████████| 943/943 [05:11<00:00,  3.02it/s]\n"
     ]
    }
   ],
   "source": [
    "def fill_matrix():\n",
    "    for u_index in tqdm(range(n_users)):\n",
    "        for i_index in range(n_items):\n",
    "            if np.isnan(ratings_matrix[u_index][i_index]):\n",
    "                rating = predict(u_index, i_index, 100)\n",
    "                \n",
    "fill_matrix()"
   ]
  },
  {
   "cell_type": "markdown",
   "metadata": {},
   "source": [
    "**OOPS!!!** We realize that total time that we need to use in predicting value is very long. **So we must change our code!!!**"
   ]
  },
  {
   "cell_type": "markdown",
   "metadata": {},
   "source": [
    "We will look into every function that we use one more time!"
   ]
  },
  {
   "cell_type": "code",
   "execution_count": 23,
   "metadata": {},
   "outputs": [
    {
     "name": "stdout",
     "output_type": "stream",
     "text": [
      "Collecting thread\n",
      "\u001b[31m  Could not find a version that satisfies the requirement thread (from versions: )\u001b[0m\n",
      "\u001b[31mNo matching distribution found for thread\u001b[0m\n",
      "\u001b[33mYou are using pip version 10.0.1, however version 18.0 is available.\n",
      "You should consider upgrading via the 'pip install --upgrade pip' command.\u001b[0m\n"
     ]
    }
   ],
   "source": [
    "!pip install thread"
   ]
  },
  {
   "cell_type": "code",
   "execution_count": 25,
   "metadata": {},
   "outputs": [
    {
     "name": "stdout",
     "output_type": "stream",
     "text": [
      "943\n"
     ]
    }
   ],
   "source": [
    "print(n_users)"
   ]
  },
  {
   "cell_type": "code",
   "execution_count": 30,
   "metadata": {},
   "outputs": [
    {
     "name": "stderr",
     "output_type": "stream",
     "text": [
      "\n",
      "\n",
      "\n",
      "\n",
      "\n",
      "\n",
      "\n",
      "  0%|          | 0/200 [00:00<?, ?it/s]\u001b[A\u001b[A\u001b[A\u001b[A\u001b[A\u001b[A\u001b[A\n",
      "\n",
      "\n",
      "\n",
      "\n",
      "\n",
      "\n",
      "\u001b[A\u001b[A\u001b[A\u001b[A\u001b[A\u001b[A\u001b[AUnhandled exception in thread started by <function fill_matrix at 0xd1bfe4d08>\n",
      "\n",
      "\n",
      " 24%|██▎       | 47/200 [02:35<08:25,  3.30s/it]\u001b[A\u001b[A\n",
      "\n",
      "\n",
      "\n",
      " 24%|██▍       | 48/200 [02:35<08:12,  3.24s/it]\u001b[A\u001b[A\u001b[A\u001b[A\n",
      " 38%|███▊      | 170/443 [04:13<06:47,  1.49s/it]\u001b[A\n",
      "\n",
      "\n",
      "\n",
      "\n",
      "\n",
      " 33%|███▎      | 47/143 [02:36<05:19,  3.33s/it]\u001b[A\u001b[A\u001b[A\u001b[A\u001b[A\u001b[A\n",
      "\n",
      "\n",
      " 24%|██▎       | 47/200 [02:36<08:30,  3.33s/it]\u001b[A\u001b[A\u001b[A\n",
      "\n",
      "\n",
      "\n",
      "\n",
      " 34%|███▍      | 171/500 [04:15<08:11,  1.50s/it][A\u001b[A\u001b[A\u001b[A\u001b[A\n",
      "\n",
      " 24%|██▍       | 48/200 [02:38<08:22,  3.30s/it]\u001b[A\u001b[A\n",
      "\n",
      "\n",
      "\n",
      " 24%|██▍       | 49/200 [02:38<08:09,  3.24s/it]\u001b[A\u001b[A\u001b[A\u001b[A\n",
      " 39%|███▊      | 171/443 [04:16<06:48,  1.50s/it]\u001b[A\n",
      "\n",
      "\n",
      "\n",
      "\n",
      " 24%|██▍       | 48/200 [02:39<08:25,  3.32s/it]\u001b[A\u001b[A\u001b[A\u001b[A\u001b[A\n",
      "\n",
      "\n",
      "\n",
      "\n",
      "\n",
      " 34%|███▎      | 48/143 [02:39<05:15,  3.32s/it]\u001b[A\u001b[A\u001b[A\u001b[A\u001b[A\u001b[A\n",
      "\n",
      "\n",
      " 24%|██▍       | 48/200 [02:39<08:26,  3.33s/it]\u001b[A\u001b[A\u001b[A\n",
      "\n",
      "\n",
      "\n",
      " 34%|███▍      | 172/500 [04:18<08:13,  1.51s/it][A\u001b[A\u001b[A\u001b[A\n",
      "\n",
      " 24%|██▍       | 49/200 [02:41<08:17,  3.30s/it]\u001b[A\u001b[A\n",
      " 39%|███▉      | 172/443 [04:20<06:50,  1.51s/it]\u001b[A\n",
      "\n",
      "\n",
      "\n",
      "\n",
      "\n",
      " 34%|███▍      | 49/143 [02:43<05:13,  3.33s/it]\u001b[A\u001b[A\u001b[A\u001b[A\u001b[A\u001b[A\n",
      "\n",
      "\n",
      "\n",
      "\n",
      " 24%|██▍       | 49/200 [02:43<08:23,  3.34s/it]\u001b[A\u001b[A\u001b[A\u001b[A\u001b[A\n",
      "\n",
      "\n",
      " 35%|███▍      | 173/500 [04:22<08:16,  1.52s/it][A\u001b[A\u001b[A\n",
      "\n",
      "\n",
      "\n",
      " 26%|██▌       | 51/200 [02:44<08:01,  3.23s/it]\u001b[A\u001b[A\u001b[A\u001b[A\n",
      "\n",
      " 25%|██▌       | 50/200 [02:45<08:16,  3.31s/it]\u001b[A\u001b[A\n",
      " 39%|███▉      | 173/443 [04:24<06:52,  1.53s/it]\u001b[A\n",
      "\n",
      "\n",
      "\n",
      "\n",
      " 25%|██▌       | 50/200 [02:46<08:19,  3.33s/it]\u001b[A\u001b[A\u001b[A\u001b[A\u001b[A\n",
      "\n",
      "\n",
      "\n",
      "\n",
      "\n",
      " 35%|███▍      | 50/143 [02:46<05:10,  3.34s/it]\u001b[A\u001b[A\u001b[A\u001b[A\u001b[A\u001b[A\n",
      "\n",
      "\n",
      " 35%|███▍      | 174/500 [04:25<08:17,  1.53s/it][A\u001b[A\u001b[A\n",
      "\n",
      "\n",
      "\n",
      " 26%|██▌       | 52/200 [02:47<07:57,  3.23s/it]\u001b[A\u001b[A\u001b[A\u001b[A\n",
      "\n",
      " 26%|██▌       | 51/200 [02:48<08:13,  3.31s/it]\u001b[A\u001b[A\n",
      " 39%|███▉      | 174/443 [04:27<06:53,  1.54s/it]\u001b[A\n",
      "\n",
      "\n",
      "\n",
      "\n",
      "\n",
      " 36%|███▌      | 51/143 [02:49<05:05,  3.32s/it]\u001b[A\u001b[A\u001b[A\u001b[A\u001b[A\u001b[A\n",
      "\n",
      "\n",
      "\n",
      "\n",
      " 26%|██▌       | 51/200 [02:49<08:15,  3.33s/it]\u001b[A\u001b[A\u001b[A\u001b[A\u001b[A\n",
      "\n",
      "\n",
      " 26%|██▌       | 51/200 [02:50<08:16,  3.33s/it]\u001b[A\u001b[A\u001b[A\n",
      "\n",
      "\n",
      "\n",
      " 35%|███▌      | 175/500 [04:28<08:18,  1.53s/it][A\u001b[A\u001b[A\u001b[A\n",
      "\n",
      " 26%|██▌       | 52/200 [02:51<08:09,  3.30s/it]\u001b[A\u001b[A\n",
      " 40%|███▉      | 175/443 [04:30<06:53,  1.54s/it]\u001b[A\n",
      "\n",
      "\n",
      "\n",
      "\n",
      "\n",
      " 36%|███▋      | 52/143 [02:52<05:02,  3.32s/it]\u001b[A\u001b[A\u001b[A\u001b[A\u001b[A\u001b[A\n",
      "\n",
      "\n",
      "\n",
      "\n",
      " 26%|██▌       | 52/200 [02:52<08:11,  3.32s/it]\u001b[A\u001b[A\u001b[A\u001b[A\u001b[A\n",
      "\n",
      "\n",
      " 26%|██▌       | 52/200 [02:53<08:13,  3.33s/it]\u001b[A\u001b[A\u001b[A\n",
      "\n",
      "\n",
      "\n",
      " 35%|███▌      | 176/500 [04:31<08:19,  1.54s/it][A\u001b[A\u001b[A\u001b[A\n",
      "\n",
      " 26%|██▋       | 53/200 [02:55<08:05,  3.30s/it]\u001b[A\u001b[A\n",
      "\n",
      "\n",
      "\n",
      "\n",
      " 26%|██▋       | 53/200 [02:55<08:06,  3.31s/it]\u001b[A\u001b[A\u001b[A\u001b[A\u001b[A\n",
      " 40%|███▉      | 176/443 [04:33<06:54,  1.55s/it]\u001b[A\n",
      "\n",
      "\n",
      "\n",
      "\n",
      "\n",
      " 37%|███▋      | 53/143 [02:55<04:58,  3.32s/it]\u001b[A\u001b[A\u001b[A\u001b[A\u001b[A\u001b[A\n",
      "\n",
      "\n",
      " 26%|██▋       | 53/200 [02:56<08:08,  3.32s/it]\u001b[A\u001b[A\u001b[A\n",
      "\n",
      "\n",
      "\n",
      " 35%|███▌      | 177/500 [04:34<08:20,  1.55s/it][A\u001b[A\u001b[A\u001b[A\n",
      "\n",
      " 27%|██▋       | 54/200 [02:58<08:01,  3.30s/it]\u001b[A\u001b[A\n",
      "\n",
      "\n",
      "\n",
      "\n",
      " 27%|██▋       | 54/200 [02:58<08:01,  3.30s/it]\u001b[A\u001b[A\u001b[A\u001b[A\u001b[A\n",
      "\n",
      "\n",
      "\n",
      "\n",
      "\n",
      " 38%|███▊      | 54/143 [02:58<04:54,  3.31s/it]\u001b[A\u001b[A\u001b[A\u001b[A\u001b[A\u001b[A\n",
      " 40%|███▉      | 177/443 [04:36<06:55,  1.56s/it]\u001b[A\n",
      "\n",
      "\n",
      "\n",
      " 28%|██▊       | 56/200 [02:59<07:40,  3.20s/it]\u001b[A\u001b[A\u001b[A\u001b[A\n",
      "\n",
      "\n",
      " 36%|███▌      | 178/500 [04:37<08:21,  1.56s/it][A\u001b[A\u001b[A\n",
      "\n",
      "\n",
      "\n",
      "\n",
      " 28%|██▊       | 55/200 [03:00<07:54,  3.27s/it]\u001b[A\u001b[A\u001b[A\u001b[A\u001b[A\n",
      "\n",
      " 28%|██▊       | 55/200 [03:01<07:57,  3.30s/it]\u001b[A\u001b[A\n",
      "\n",
      "\n",
      "\n",
      "\n",
      "\n",
      " 38%|███▊      | 55/143 [03:01<04:50,  3.30s/it]\u001b[A\u001b[A\u001b[A\u001b[A\u001b[A\u001b[A\n",
      "\n",
      "\n",
      "\n",
      " 28%|██▊       | 57/200 [03:01<07:36,  3.19s/it]\u001b[A\u001b[A\u001b[A\u001b[A\n",
      " 40%|████      | 178/443 [04:39<06:56,  1.57s/it]\u001b[A\n",
      "\n",
      "\n",
      " 36%|███▌      | 179/500 [04:40<08:22,  1.57s/it][A\u001b[A\u001b[A\n",
      "\n",
      "\n",
      "\n",
      "\n",
      " 28%|██▊       | 56/200 [03:03<07:50,  3.27s/it]\u001b[A\u001b[A\u001b[A\u001b[A\u001b[A\n",
      "\n",
      " 28%|██▊       | 56/200 [03:04<07:53,  3.29s/it]\u001b[A\u001b[A\n",
      "\n",
      "\n",
      "\n",
      " 29%|██▉       | 58/200 [03:04<07:31,  3.18s/it]\u001b[A\u001b[A\u001b[A\u001b[A\n",
      "\n",
      "\n",
      "\n",
      "\n",
      "\n",
      " 39%|███▉      | 56/143 [03:04<04:46,  3.30s/it]\u001b[A\u001b[A\u001b[A\u001b[A\u001b[A\u001b[A\n",
      " 40%|████      | 179/443 [04:42<06:56,  1.58s/it]\u001b[A\n",
      "\n",
      "\n",
      " 36%|███▌      | 180/500 [04:43<08:23,  1.57s/it][A\u001b[A\u001b[A\n",
      "\n",
      "\n",
      "\n",
      "\n",
      " 28%|██▊       | 57/200 [03:06<07:47,  3.27s/it]\u001b[A\u001b[A\u001b[A\u001b[A\u001b[A\n",
      "\n",
      " 28%|██▊       | 57/200 [03:06<07:49,  3.28s/it]\u001b[A\u001b[A\n",
      "\n",
      "\n",
      "\n",
      " 36%|███▌      | 181/500 [04:45<08:23,  1.58s/it][A\u001b[A\u001b[A\u001b[A\n",
      "\n",
      "\n",
      "\n",
      "\n",
      "\n",
      " 40%|███▉      | 57/143 [03:07<04:43,  3.29s/it]\u001b[A\u001b[A\u001b[A\u001b[A\u001b[A\u001b[A\n",
      "\n",
      "\n",
      " 28%|██▊       | 57/200 [03:07<07:51,  3.30s/it]\u001b[A\u001b[A\u001b[A\n",
      " 41%|████      | 180/443 [04:45<06:57,  1.59s/it]\u001b[A\n",
      "\n",
      "\n",
      "\n",
      "\n",
      " 29%|██▉       | 58/200 [03:09<07:43,  3.26s/it]\u001b[A\u001b[A\u001b[A\u001b[A\u001b[A\n",
      "\n",
      " 29%|██▉       | 58/200 [03:09<07:45,  3.28s/it]\u001b[A\u001b[A\n",
      "\n",
      "\n",
      "\n",
      " 36%|███▋      | 182/500 [04:48<08:24,  1.59s/it][A\u001b[A\u001b[A\u001b[A\n",
      " 41%|████      | 181/443 [04:48<06:58,  1.60s/it]\u001b[A\n",
      "\n",
      "\n",
      " 29%|██▉       | 58/200 [03:11<07:48,  3.30s/it]\u001b[A\u001b[A\u001b[A\n",
      "\n",
      "\n",
      "\n",
      "\n",
      "\n",
      " 41%|████      | 58/143 [03:11<04:40,  3.30s/it]\u001b[A\u001b[A\u001b[A\u001b[A\u001b[A\u001b[A\n",
      "\n",
      "\n",
      "\n",
      "\n",
      " 30%|██▉       | 59/200 [03:12<07:39,  3.26s/it]\u001b[A\u001b[A\u001b[A\u001b[A\u001b[A\n",
      "\n",
      " 30%|██▉       | 59/200 [03:12<07:40,  3.26s/it]\u001b[A\u001b[A\n",
      " 41%|████      | 182/443 [04:51<06:58,  1.60s/it]\u001b[A\n",
      "\n",
      "\n",
      "\n",
      " 37%|███▋      | 183/500 [04:52<08:26,  1.60s/it][A\u001b[A\u001b[A\u001b[A\n",
      "\n",
      "\n",
      "\n",
      "\n",
      "\n",
      " 41%|████▏     | 59/143 [03:14<04:36,  3.30s/it]\u001b[A\u001b[A\u001b[A\u001b[A\u001b[A\u001b[A\n",
      "\n",
      "\n",
      " 30%|██▉       | 59/200 [03:14<07:45,  3.30s/it]\u001b[A\u001b[A\u001b[A\n",
      "\n",
      "\n",
      "\n",
      "\n",
      " 30%|███       | 60/200 [03:15<07:35,  3.26s/it]\u001b[A\u001b[A\u001b[A\u001b[A\u001b[A\n",
      "\n",
      " 30%|███       | 60/200 [03:15<07:36,  3.26s/it]\u001b[A\u001b[A\n",
      " 37%|███▋      | 184/500 [04:54<08:26,  1.60s/it]\u001b[A\n",
      "\n",
      "\n",
      "\n",
      " 31%|███       | 62/200 [03:17<07:19,  3.18s/it]\u001b[A\u001b[A\u001b[A\u001b[A\n",
      "\n",
      "\n",
      " 30%|███       | 60/200 [03:17<07:41,  3.30s/it]\u001b[A\u001b[A\u001b[A\n",
      "\n",
      "\n",
      "\n",
      "\n",
      "\n",
      " 42%|████▏     | 60/143 [03:17<04:33,  3.29s/it]\u001b[A\u001b[A\u001b[A\u001b[A\u001b[A\u001b[A\n",
      "\n",
      "\n",
      "\n",
      "\n",
      " 30%|███       | 61/200 [03:18<07:31,  3.25s/it]\u001b[A\u001b[A\u001b[A\u001b[A\u001b[A\n",
      "\n",
      " 30%|███       | 61/200 [03:18<07:32,  3.26s/it]\u001b[A\u001b[A/anaconda3/lib/python3.6/site-packages/ipykernel_launcher.py:27: RuntimeWarning: invalid value encountered in double_scalars\n",
      "\n",
      " 42%|████▏     | 184/443 [04:57<06:58,  1.62s/it]\u001b[A\n",
      "\n",
      "\n",
      "\n",
      " 37%|███▋      | 185/500 [04:57<08:27,  1.61s/it][A\u001b[A\u001b[A\u001b[A\n",
      "\n",
      "\n",
      "\n",
      "\n",
      "\n",
      " 43%|████▎     | 61/143 [03:20<04:29,  3.29s/it]\u001b[A\u001b[A\u001b[A\u001b[A\u001b[A\u001b[A\n",
      "\n",
      "\n",
      " 30%|███       | 61/200 [03:20<07:37,  3.29s/it]\u001b[A\u001b[A\u001b[A\n",
      "\n",
      " 31%|███       | 62/200 [03:21<07:27,  3.25s/it]\u001b[A\u001b[A\n",
      "\n",
      "\n",
      "\n",
      "\n",
      " 31%|███       | 62/200 [03:21<07:28,  3.25s/it]\u001b[A\u001b[A\u001b[A\u001b[A\u001b[A\n",
      " 42%|████▏     | 185/443 [05:01<07:00,  1.63s/it]\u001b[A\n",
      "\n",
      "\n",
      "\n",
      " 37%|███▋      | 186/500 [05:01<08:29,  1.62s/it][A\u001b[A\u001b[A\u001b[A\n",
      "\n",
      "\n",
      "\n",
      "\n",
      "\n",
      " 43%|████▎     | 62/143 [03:24<04:27,  3.30s/it]\u001b[A\u001b[A\u001b[A\u001b[A\u001b[A\u001b[A\n",
      "\n",
      "\n",
      " 31%|███       | 62/200 [03:24<07:35,  3.30s/it]\u001b[A\u001b[A\u001b[A\n",
      "\n",
      " 32%|███▏      | 63/200 [03:25<07:27,  3.26s/it]\u001b[A\u001b[A\n",
      "\n",
      "\n",
      "\n",
      "\n",
      " 32%|███▏      | 63/200 [03:25<07:27,  3.26s/it]\u001b[A\u001b[A\u001b[A\u001b[A\u001b[A\n",
      " 37%|███▋      | 187/500 [05:05<08:31,  1.63s/it]\u001b[A\n",
      "\n",
      "\n",
      "\n",
      " 32%|███▎      | 65/200 [03:27<07:11,  3.20s/it]\u001b[A\u001b[A\u001b[A\u001b[A\n",
      "\n",
      "\n",
      "\n",
      "\n",
      "\n",
      " 44%|████▍     | 63/143 [03:28<04:24,  3.30s/it]\u001b[A\u001b[A\u001b[A\u001b[A\u001b[A\u001b[A\n",
      "\n",
      "\n",
      " 32%|███▏      | 63/200 [03:28<07:33,  3.31s/it]\u001b[A\u001b[A\u001b[A"
     ]
    }
   ],
   "source": [
    "import _thread as thread\n",
    "import time\n",
    "\n",
    "count = 0\n",
    "# Define a function for the thread\n",
    "def fill_matrix(start, end):\n",
    "    for u_index in tqdm(range(start, end)):\n",
    "        for i_index in range(n_items):\n",
    "            if np.isnan(ratings_matrix[u_index][i_index]):\n",
    "                rating = predict(u_index, i_index, 100)\n",
    "                count += 1\n",
    "                print(count)\n",
    "                \n",
    "# fill_matrix()\n",
    "\n",
    "try:\n",
    "    thread.start_new_thread(fill_matrix, (0, 200))\n",
    "#     thread.start_new_thread(fill_matrix, (200, 400 ))\n",
    "#     thread.start_new_thread(fill_matrix, (400, 600 ))\n",
    "#     thread.start_new_thread(fill_matrix, (600, 800 ))\n",
    "#     thread.start_new_thread(fill_matrix, (800, n_users ))\n",
    "\n",
    "except:\n",
    "    print(\"Error: unable to start thread\")\n",
    "\n",
    "\n",
    "\n",
    "# def print_time( threadName, delay):\n",
    "#     count = 0\n",
    "#     while count < 5:\n",
    "#         time.sleep(delay)\n",
    "#         count += 1\n",
    "#         print(\"%s: %s\" % ( threadName, time.ctime(time.time()) ))\n",
    "\n",
    "# # Create two threads as follows\n",
    "# try:\n",
    "#     thread.start_new_thread(print_time, (\"Thread-1\", 2, ) )\n",
    "#     thread.start_new_thread(print_time, (\"Thread-2\", 4, ) )\n",
    "# except:\n",
    "#     print(\"Error: unable to start thread\")\n",
    "\n",
    "# while 1:\n",
    "#     pass"
   ]
  },
  {
   "cell_type": "code",
   "execution_count": null,
   "metadata": {},
   "outputs": [],
   "source": []
  }
 ],
 "metadata": {
  "kernelspec": {
   "display_name": "Python 3",
   "language": "python",
   "name": "python3"
  },
  "language_info": {
   "codemirror_mode": {
    "name": "ipython",
    "version": 3
   },
   "file_extension": ".py",
   "mimetype": "text/x-python",
   "name": "python",
   "nbconvert_exporter": "python",
   "pygments_lexer": "ipython3",
   "version": "3.6.5"
  }
 },
 "nbformat": 4,
 "nbformat_minor": 2
}
