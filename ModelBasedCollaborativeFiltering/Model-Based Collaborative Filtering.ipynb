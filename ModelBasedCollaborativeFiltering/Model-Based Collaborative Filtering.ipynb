{
 "cells": [
  {
   "cell_type": "code",
   "execution_count": 1,
   "metadata": {
    "scrolled": true
   },
   "outputs": [
    {
     "name": "stderr",
     "output_type": "stream",
     "text": [
      "/anaconda3/lib/python3.6/site-packages/h5py/__init__.py:36: FutureWarning: Conversion of the second argument of issubdtype from `float` to `np.floating` is deprecated. In future, it will be treated as `np.float64 == np.dtype(float).type`.\n",
      "  from ._conv import register_converters as _register_converters\n"
     ]
    }
   ],
   "source": [
    "import numpy as np\n",
    "import tensorflow as tf\n",
    "import sklearn\n",
    "import csv\n",
    "import pandas as pd"
   ]
  },
  {
   "cell_type": "markdown",
   "metadata": {},
   "source": [
    "# MovieLens 100k"
   ]
  },
  {
   "cell_type": "code",
   "execution_count": 2,
   "metadata": {},
   "outputs": [],
   "source": [
    "names = ['user_id', 'item_id', 'rating', 'timestamp']\n",
    "df = pd.read_csv('ml-100k/u.data', names=names, sep='\\t')"
   ]
  },
  {
   "cell_type": "code",
   "execution_count": 3,
   "metadata": {},
   "outputs": [],
   "source": [
    "n_users = df.user_id.unique().shape[0]\n",
    "n_items = df.item_id.unique().shape[0]"
   ]
  },
  {
   "cell_type": "code",
   "execution_count": 4,
   "metadata": {},
   "outputs": [
    {
     "name": "stdout",
     "output_type": "stream",
     "text": [
      "943\n",
      "1682\n"
     ]
    }
   ],
   "source": [
    "print(n_users)\n",
    "print(n_items)"
   ]
  },
  {
   "cell_type": "code",
   "execution_count": 5,
   "metadata": {},
   "outputs": [],
   "source": [
    "nan = np.nan\n",
    "movielens_ratings_matrix = np.zeros((n_users, n_items)) * nan\n",
    "for line in df.itertuples():\n",
    "    movielens_ratings_matrix[line[1]-1, line[2]-1] = line[3]"
   ]
  },
  {
   "cell_type": "code",
   "execution_count": 6,
   "metadata": {},
   "outputs": [
    {
     "name": "stdout",
     "output_type": "stream",
     "text": [
      "[[ 5.  3.  4. ... nan nan nan]\n",
      " [ 4. nan nan ... nan nan nan]\n",
      " [nan nan nan ... nan nan nan]\n",
      " ...\n",
      " [ 5. nan nan ... nan nan nan]\n",
      " [nan nan nan ... nan nan nan]\n",
      " [nan  5. nan ... nan nan nan]]\n"
     ]
    }
   ],
   "source": [
    "print(movielens_ratings_matrix)"
   ]
  },
  {
   "cell_type": "markdown",
   "metadata": {},
   "source": [
    "# Introduction"
   ]
  },
  {
   "cell_type": "markdown",
   "metadata": {},
   "source": [
    "In model-based methods, a summarized model of data is created up front, as with supervised and unsupervised learning methods. Therefore, the training is clearly separated from the prediction phase. <br>\n",
    "Examples of such methods in traditional machine learning include decision trees, rule-based methods, Bayes classifiers, regression models, support vector machines, and neural networks."
   ]
  },
  {
   "cell_type": "markdown",
   "metadata": {},
   "source": [
    "Unlike data classification, any entry in the ratings matrix maybe missing."
   ]
  },
  {
   "cell_type": "markdown",
   "metadata": {},
   "source": [
    "# Decision and Regression Trees"
   ]
  },
  {
   "cell_type": "markdown",
   "metadata": {},
   "source": [
    "Gini index lies between 0 and 1, with smaller value being more indicative of greater discriminative power: $$ G(S) = 1 - \\sum_{i=1}^r p_i^2 $$"
   ]
  },
  {
   "cell_type": "markdown",
   "metadata": {},
   "source": [
    "$$ Gini(S \\Rightarrow [S_i, S_2] = \\dfrac{n_1.G(S_1) + n_2.G(S_2)}{n_1 + n_2} $$"
   ]
  },
  {
   "cell_type": "markdown",
   "metadata": {},
   "source": [
    "### Binary matrix"
   ]
  },
  {
   "cell_type": "code",
   "execution_count": null,
   "metadata": {},
   "outputs": [],
   "source": [
    "class BinaryMatrix():\n",
    "    def __init__(self):\n",
    "        pass\n",
    "    \n",
    "    def random_init(self, size):\n",
    "        self.matrix = np.random.randint(2, size=size)\n",
    "        \n",
    "    def get_label(self):\n",
    "        return self.matrix[:, -1]\n",
    "    \n",
    "    def get_train_data(self):\n",
    "        return self.matrix[:, :-1]"
   ]
  },
  {
   "cell_type": "code",
   "execution_count": null,
   "metadata": {},
   "outputs": [],
   "source": [
    "binary_matrix = BinaryMatrix()\n",
    "binary_matrix.random_init(size=[100, 100])"
   ]
  },
  {
   "cell_type": "code",
   "execution_count": null,
   "metadata": {},
   "outputs": [],
   "source": [
    "print(binary_matrix.matrix)\n",
    "print(binary_matrix.get_label())\n",
    "print(binary_matrix.get_train_data())"
   ]
  },
  {
   "cell_type": "code",
   "execution_count": null,
   "metadata": {},
   "outputs": [],
   "source": [
    "from sklearn import tree\n",
    "from sklearn.model_selection import train_test_split"
   ]
  },
  {
   "cell_type": "code",
   "execution_count": null,
   "metadata": {},
   "outputs": [],
   "source": [
    "X_train, X_test, y_train, y_test = train_test_split(binary_matrix.get_train_data(),\n",
    "                                                   binary_matrix.get_label(), \n",
    "                                                    test_size=0.2, random_state=42)"
   ]
  },
  {
   "cell_type": "code",
   "execution_count": null,
   "metadata": {},
   "outputs": [],
   "source": [
    "clf = tree.DecisionTreeClassifier(random_state=42)"
   ]
  },
  {
   "cell_type": "code",
   "execution_count": null,
   "metadata": {},
   "outputs": [],
   "source": [
    "clf.fit(X=X_train, y=y_train)"
   ]
  },
  {
   "cell_type": "code",
   "execution_count": null,
   "metadata": {},
   "outputs": [],
   "source": [
    "predict_test = clf.predict(X_test)"
   ]
  },
  {
   "cell_type": "code",
   "execution_count": null,
   "metadata": {},
   "outputs": [],
   "source": [
    "accuracy = np.sum(y_test == predict_test) / len(y_test)\n",
    "print(accuracy)"
   ]
  },
  {
   "cell_type": "code",
   "execution_count": null,
   "metadata": {},
   "outputs": [],
   "source": [
    "!pip install graphviz"
   ]
  },
  {
   "cell_type": "markdown",
   "metadata": {},
   "source": [
    "### Sparse Matrix - Extending Decision Tree to Collaborative Filtering"
   ]
  },
  {
<<<<<<< HEAD
   "cell_type": "code",
   "execution_count": null,
   "metadata": {},
   "outputs": [],
   "source": [
    "from sklearn.decomposition import TruncatedSVD\n",
    "from sklearn.random_projection import sparse_random_matrix"
=======
   "cell_type": "markdown",
   "metadata": {},
   "source": [
    "We use $j^{th}$ item to be dependent variable (class), and other items to be independent variables (feature variables). <br>\n",
    "The $j^{th}$ column of original matrix R need to be predicted. "
>>>>>>> commit before pulling
   ]
  },
  {
   "cell_type": "code",
   "execution_count": null,
   "metadata": {},
   "outputs": [],
   "source": [
    "ratings_matrix = sparse_random_matrix(1000, 1000, density=0.05, random_state=42)"
   ]
  },
  {
   "cell_type": "markdown",
   "metadata": {},
   "source": [
    "We need to choose $j^{th}$ item to be target, and others $n - 1$ columns to be features"
   ]
  },
  {
   "cell_type": "code",
   "execution_count": null,
   "metadata": {},
   "outputs": [],
   "source": [
    "svd = TruncatedSVD(n_components=10, n_iter=10, random_state=42)\n"
   ]
  },
  {
   "cell_type": "markdown",
   "metadata": {},
   "source": [
    "Example: $j^{th}$ column is the last column"
   ]
  },
  {
   "cell_type": "code",
   "execution_count": null,
   "metadata": {},
   "outputs": [],
   "source": [
    "X_data = ratings_matrix[:, :-1]\n",
    "y_data = ratings_matrix[:, -1]"
   ]
  },
  {
   "cell_type": "code",
   "execution_count": null,
   "metadata": {},
   "outputs": [],
   "source": [
    "svd.fit(X_data)\n",
    "print(svd.singular_values_)"
   ]
  },
  {
   "cell_type": "markdown",
   "metadata": {},
   "source": [
    "Then we use Decision tree on density matrix $m \\times d$"
   ]
  },
  {
   "cell_type": "code",
   "execution_count": null,
   "metadata": {},
   "outputs": [],
   "source": [
    "reduction_ratings_matrix = svd.transform(X_data)"
   ]
  },
  {
   "cell_type": "code",
   "execution_count": null,
   "metadata": {},
   "outputs": [],
   "source": [
    "print(reduction_ratings_matrix)"
   ]
  },
  {
   "cell_type": "code",
   "execution_count": null,
   "metadata": {},
   "outputs": [],
   "source": [
    "clf = tree.DecisionTreeRegressor()\n",
    "\n",
    "clf.fit(reduction_ratings_matrix, y_data.todense())"
   ]
  },
  {
   "cell_type": "code",
   "execution_count": null,
   "metadata": {},
   "outputs": [],
   "source": [
    "print(clf.predict(reduction_ratings_matrix))\n",
    "print(clf.predict(reduction_ratings_matrix).shape)"
   ]
  },
  {
   "cell_type": "markdown",
   "metadata": {},
   "source": [
    "We must loop through all items"
   ]
  },
  {
   "cell_type": "markdown",
   "metadata": {},
   "source": [
    "# Rule-based Collaborative Filtering\n",
    "(recommenderlab in R)"
   ]
  },
  {
   "cell_type": "markdown",
   "metadata": {},
   "source": [
    "Consider a transaction database $ T = \\{ T_1...T_m \\} $ containing $m$ transactions, which are defined on $n$ items $I$. $I$ is the universal set of items, and each transaction $T_i$ is a subset of items in $I$."
   ]
  },
  {
   "cell_type": "markdown",
   "metadata": {},
   "source": [
    "$(\\textbf{support})$ The $support$ of an item set $X \\subseteq I$ is the fraction of transactions in $T$, of which $X$ is a subset <br>\n",
    "If the support of an itemset is at least equal to predefined threshold $s$, then the itemset is said to be frequent. This threshold is referred to as the $minimum support$, these itemset are referred to as $frequent itemsets$ or $frequent patterns$"
   ]
  },
  {
   "cell_type": "markdown",
   "metadata": {},
   "source": [
    "$(\\textbf{Confidence})$ The confidence of the rule $X \\Rightarrow Y$ is the conditional probability that a transaction in $T$ contains $Y$, given that it also contains $X$. Therefore, the confidence is obtained by dividing the support of $X \\cup Y$ with the support of $X$"
   ]
  },
  {
   "cell_type": "markdown",
   "metadata": {},
   "source": [
    "$(\\textbf{Association Rules})$ A rule $X \\Rightarrow Y$ is said to be an association rule at a minimum support of $s$ and minimum confidence of $c$, if the following two conditions are satisfied:<br>\n",
    "1. The support of $X \\cup Y$ is at least $s$\n",
    "2. The confidence of $X \\Rightarrow Y$ í at least $c$\n"
   ]
  },
  {
   "cell_type": "markdown",
   "metadata": {},
   "source": [
    "# Naive  Bayes Collaborative Filtering"
   ]
  },
  {
   "cell_type": "markdown",
   "metadata": {},
   "source": [
    "Bayes Rule: $$ P(A|B) = \\dfrac{P(A).P(B|A)}{P(B)} $$"
   ]
  },
  {
   "cell_type": "code",
   "execution_count": null,
   "metadata": {},
   "outputs": [],
   "source": []
  },
  {
   "cell_type": "markdown",
   "metadata": {},
   "source": [
    "# Using an Arbitrary Classification Model as a Blackbox"
   ]
  },
  {
   "cell_type": "markdown",
   "metadata": {},
   "source": [
    "The first step is to initialize the missing entries in the matrix with row averages, column averages, or with any simple collaborative filtering algorithm => remove bias, then fill 0 in the missing entries."
   ]
  },
  {
   "cell_type": "markdown",
   "metadata": {},
   "source": [
    "Using the following two steps iterative approach:\n",
    "1. Use algorithm $A$ to estimate the missing entries of each column by setting it as the target variable and the remaining columns as the feature variables. For the remaining columns, use the current set of filled in values to create a complete matrix of feature variables. The observed ratings in the target column are used for training, the the missing ratings are predicted.\n",
    "2. Update all the missing entries based on the prediction of algorithm $A$ on each target colum"
   ]
  },
  {
   "cell_type": "markdown",
   "metadata": {},
   "source": [
    "#### Example"
   ]
  },
  {
   "cell_type": "markdown",
   "metadata": {},
   "source": [
    "Firsly, we will substract the rating values by row averages, then fill 0 in the missing values "
   ]
  },
  {
   "cell_type": "code",
   "execution_count": 7,
   "metadata": {},
   "outputs": [],
   "source": [
    "def specified_rating_indices(u):\n",
    "    return list(map(tuple, np.where(np.isfinite(u))))"
   ]
  },
  {
   "cell_type": "code",
   "execution_count": 8,
   "metadata": {},
   "outputs": [],
   "source": [
    "# mean rating for each user i using his specified rating\n",
    "def mean(u):\n",
    "    specified_ratings = u[specified_rating_indices(u)]#u[np.isfinite(u)]\n",
    "    m = sum(specified_ratings)/np.shape(specified_ratings)[0]\n",
    "    return m"
   ]
  },
  {
   "cell_type": "code",
   "execution_count": 9,
   "metadata": {},
   "outputs": [],
   "source": [
    "def all_user_mean_ratings(ratings_matrix):\n",
    "    return np.array([mean(ratings_matrix[u, :]) for u in range(ratings_matrix.shape[0])])"
   ]
  },
  {
   "cell_type": "code",
   "execution_count": 10,
   "metadata": {},
   "outputs": [],
   "source": [
    "def get_mean_centered_ratings_matrix(ratings_matrix):\n",
    "    users_mean_rating = all_user_mean_ratings(ratings_matrix)\n",
    "    mean_centered_ratings_matrix = ratings_matrix - np.reshape(users_mean_rating, [-1, 1])\n",
    "    return mean_centered_ratings_matrix"
   ]
  },
  {
   "cell_type": "code",
   "execution_count": 56,
   "metadata": {},
   "outputs": [],
   "source": [
    "mean_centered_ratings_matrix = get_mean_centered_ratings_matrix(movielens_ratings_matrix)"
   ]
  },
  {
   "cell_type": "code",
   "execution_count": 57,
   "metadata": {},
   "outputs": [],
   "source": [
    "def fill_zero_in_nan(matrix_2d):  \n",
    "    result_matrix = matrix_2d.copy()\n",
    "    for i in range(len(result_matrix)):\n",
    "        row = result_matrix[i]\n",
    "        \n",
    "        for j in range(len(row)):\n",
    "            if np.isnan(row[j]):\n",
    "                result_matrix[i][j] = 0\n",
    "    \n",
    "    return result_matrix"
   ]
  },
  {
   "cell_type": "code",
   "execution_count": 58,
   "metadata": {},
   "outputs": [],
   "source": [
    "row_average_rating_matrix = fill_zero_in_nan(mean_centered_ratings_matrix)"
   ]
  },
  {
   "cell_type": "code",
   "execution_count": null,
   "metadata": {},
   "outputs": [],
   "source": [
    "print(row_average_rating_matrix)"
   ]
  },
  {
   "cell_type": "code",
   "execution_count": null,
   "metadata": {},
   "outputs": [],
   "source": [
    "print(mean_centered_ratings_matrix)"
   ]
  },
  {
   "cell_type": "markdown",
   "metadata": {},
   "source": [
    "Then we choose a column to be the target variable"
   ]
  },
  {
   "cell_type": "markdown",
   "metadata": {},
   "source": [
    "To easily using neural network, we should find the item which is rated most"
   ]
  },
  {
   "cell_type": "code",
   "execution_count": null,
   "metadata": {},
   "outputs": [],
   "source": [
    "m = 0\n",
    "m_index = 0\n",
    "\n",
    "for i in range(n_items):\n",
    "    y_i = movielens_ratings_matrix[:, i]\n",
    "    total = 0\n",
    "\n",
    "    for element in y_i:\n",
    "        if not np.isnan(element):\n",
    "            total = total + 1\n",
    "    if total > m:\n",
    "        m = total\n",
    "        m_index = i\n",
    "print(m)\n",
    "print(m_index)"
   ]
  },
  {
   "cell_type": "code",
   "execution_count": null,
   "metadata": {},
   "outputs": [],
   "source": [
    "# for example, we will choose \n",
    "target_index = 49\n",
    "\n",
    "X_data = row_average_rating_matrix[:, :target_index]\n",
    "X_data = np.concatenate((X_data, row_average_rating_matrix[:, (target_index + 1):]), axis=1)\n",
    "\n",
    "y_data = row_average_rating_matrix[:, target_index]\n",
    "y_data_original = movielens_ratings_matrix[:, target_index]"
   ]
  },
  {
   "cell_type": "code",
   "execution_count": null,
   "metadata": {},
   "outputs": [],
   "source": [
    "train_indices = []\n",
    "test_indices = []\n",
    "\n",
    "for i in range(len(y_data_original)):\n",
    "    if not np.isnan(y_data_original[i]):\n",
    "        train_indices.append(i)\n",
    "    else:\n",
    "        test_indices.append(i)"
   ]
  },
  {
   "cell_type": "code",
   "execution_count": null,
   "metadata": {},
   "outputs": [],
   "source": [
    "X_train = X_data[train_indices]\n",
    "y_train = y_data[train_indices]\n",
    "\n",
    "X_test = X_data[test_indices]\n",
    "y_test = y_data[test_indices]"
   ]
  },
  {
   "cell_type": "code",
   "execution_count": null,
   "metadata": {},
   "outputs": [],
   "source": [
    "X_train, X_val, y_train, y_val = train_test_split(X_train, y_train, test_size=0.1)"
   ]
  },
  {
   "cell_type": "code",
   "execution_count": null,
   "metadata": {},
   "outputs": [],
   "source": [
    "print(X_train.shape)\n",
    "print(X_val.shape)"
   ]
  },
  {
   "cell_type": "code",
   "execution_count": null,
   "metadata": {},
   "outputs": [],
   "source": [
    "from sklearn.utils import shuffle\n",
    "\n",
    "def get_batch(X, y, iteration, batch_size):\n",
    "    indices = range(iteration * batch_size, (iteration + 1) * batch_size)\n",
    "    \n",
    "    return X[indices], y[indices]"
   ]
  },
  {
   "cell_type": "markdown",
   "metadata": {},
   "source": [
    "We will create a neural network to train:"
   ]
  },
  {
   "cell_type": "code",
   "execution_count": null,
   "metadata": {},
   "outputs": [],
   "source": [
    "tf.reset_default_graph()\n",
    "\n",
    "X = tf.placeholder(tf.float32, shape=[None, n_items-1], name='X')\n",
    "y = tf.placeholder(tf.float32, shape=None, name='y')\n",
    "\n",
    "network = tf.layers.dense(inputs=X, activation=tf.nn.relu, units=256)\n",
    "network = tf.layers.dense(inputs=network, activation=tf.nn.relu, units=128)\n",
    "network = tf.layers.dense(inputs=network, activation=tf.nn.relu, units=128)\n",
    "network = tf.layers.dense(inputs=network, activation=tf.nn.relu, units=128)\n",
    "network = tf.layers.dense(inputs=network, activation=tf.nn.relu, units=32)\n",
    "\n",
    "outputs = tf.layers.dense(inputs=network, units=1)\n",
    "\n",
    "loss = tf.losses.mean_squared_error(labels=y, predictions=outputs)\n",
    "\n",
    "train_op = tf.train.GradientDescentOptimizer(learning_rate=0.001)\n",
    "train_op = train_op.minimize(loss)\n",
    "\n",
    "init = tf.global_variables_initializer()"
   ]
  },
  {
   "cell_type": "code",
   "execution_count": null,
   "metadata": {},
   "outputs": [],
   "source": [
    "n_epochs = 50\n",
    "batch_size = 8\n",
    "\n",
    "with tf.Session() as sess:\n",
    "    sess.run(init)\n",
    "    \n",
    "    X_train, y_train = shuffle(X_train, y_train)\n",
    "    \n",
    "    for epoch in range(n_epochs):\n",
    "        train_loss = 0\n",
    "        \n",
    "        for i in range(len(X_train) // batch_size):\n",
    "            X_batch, y_batch = get_batch(X_train, y_train, iteration=i, batch_size=batch_size)\n",
    "\n",
    "            _, loss_batch = sess.run([train_op, loss], feed_dict={X: X_batch, y: y_batch})\n",
    "\n",
    "            train_loss = train_loss + loss_batch\n",
    "    \n",
    "        train_loss = train_loss / (len(X_train) // batch_size)\n",
    "        val_loss = sess.run(loss, feed_dict={X: X_val, y: y_val})\n",
    "        \n",
    "        print(\"Epoch \", epoch, \"\\t Training loss: \", train_loss, \"\\t Validation loss: \", val_loss)\n",
    "    \n",
    "    y_predict = sess.run(outputs, feed_dict={X: X_test})"
   ]
  },
  {
   "cell_type": "markdown",
   "metadata": {},
   "source": [
    "May be this result is not good as expected, but we can use this approach. <br>\n",
    "We've predict ratings for one items, it is similar for other items."
   ]
  },
  {
   "cell_type": "markdown",
   "metadata": {},
   "source": [
    "# Latent Factor Models"
   ]
  },
  {
   "cell_type": "markdown",
   "metadata": {},
   "source": [
    "## Low-Rank Intuition for Latent Factor Models"
   ]
  },
  {
   "cell_type": "markdown",
   "metadata": {},
   "source": [
    "The rank-k ratings matrix $R$ with size $m \\times n$ can always be expressed in the following product form of rank-k factors: $$ R = UV^T $$ <br>\n",
    "Here $U$ is an $m \\times k$ matrix, and $V$ is an $n \\times k$ matrix"
   ]
  },
  {
   "cell_type": "markdown",
   "metadata": {},
   "source": [
    "Even when the ratings matrix $R$ has rank larger than $k$ , it can be often approximately expressed as the product of rank-k factors: $$ R \\approx UV^T $$ <br>\n",
    "The error of this approximation is equal to $ || R - UV^T ||^2 $"
   ]
  },
  {
   "cell_type": "markdown",
   "metadata": {},
   "source": [
    "# Basic Matrix Factorization Principles"
   ]
  },
  {
   "cell_type": "markdown",
   "metadata": {},
   "source": [
    "In the basic matrix factorization model, the $m \\times n$ ratings matrix $R$ is approximately factorized in to an $m \\times k$ matrix $U$ and $n \\times k$ matrix $V$, as follows: $$ R \\approx UV^T $$ <br>\n",
    "Each column of $U$ or $V$ is referred to as a $latent\\ vector$ or $latent\\ component$, where as each row of $U$ or $V$ is referred to as a $ latent\\ factor $ <br>\n",
    "Note: row $\\bar{u_i}$ is a user factor, row $\\bar{v_i}$ is a item factor, then: $$ r_{ij} \\approx \\bar{u_i}.\\bar{v_i} $$"
   ]
  },
  {
   "cell_type": "markdown",
   "metadata": {},
   "source": [
    "## Unconstrained Matrix Factorization"
   ]
  },
  {
   "cell_type": "markdown",
   "metadata": {},
   "source": [
    "$$ Minimize\\ J = \\dfrac{1}{2} \\|R - UV^T \\|^2 $$\n",
    "$$ subject\\ to: $$\n",
    "$$ No\\ constrain\\ on\\ U\\ and\\ V $$ <br>\n",
    "We only compute on observed entries"
   ]
  },
  {
   "cell_type": "markdown",
   "metadata": {},
   "source": [
    "Residual Matrix: $ (R - UV^T) $"
   ]
  },
  {
   "cell_type": "markdown",
   "metadata": {},
   "source": [
    "Let the set of all user-item pairs $(i, j)$, which are observed in R, be denoted by $S$: $$S = \\{ (i, j):\\ r_{ij}\\ is\\ observed \\}$$"
   ]
  },
  {
   "cell_type": "markdown",
   "metadata": {},
   "source": [
    "The $(i, j)$th entry of matrix R can be predicted as follows: $$ \\hat{r}_{ij} = \\sum_{s=1}^k u_{is}v_{js} $$"
   ]
  },
  {
   "cell_type": "markdown",
   "metadata": {},
   "source": [
    "The difference between the observed and predicted value of a specified entri $(i, j)$ is given by: $$ e_{ij} = (r_{ij} - \\hat{r}_{ij}) = (r_{ij} - \\sum_{s=1}^k u_{is}v_{js}) $$<br>\n",
    "The objective function now is: \n",
    "$$ Minimize\\ J = \\dfrac{1}{2} \\sum_{(i, j) \\in S} e_{ij}^2 = \\dfrac{1}{2} \\sum_{(i, j) \\in S} (r_{ij} - \\sum_{s=1}^k u_{is}v_{js})^2$$\n",
    "$$ subject\\ to: $$\n",
    "$$ No\\ constrain\\ on\\ U\\ and\\ V $$"
   ]
  },
  {
   "cell_type": "code",
   "execution_count": null,
   "metadata": {},
   "outputs": [],
   "source": [
    "def tf_specified_rating_indices(u):\n",
    "    return tf.where(tf.is_finite(u))"
   ]
  },
  {
   "cell_type": "code",
   "execution_count": null,
   "metadata": {
    "scrolled": true
   },
   "outputs": [],
   "source": [
    "def loss_on_observed_value(original_matrix, predicted_matrix):\n",
    "    indices = tf_specified_rating_indices(original_matrix)\n",
    "    \n",
    "#     observed_values = original_matrix[indices]\n",
    "#     predicted_value = predicted_matrix[indices]\n",
    "    observed_values = tf.gather_nd(original_matrix, indices)\n",
    "    predicted_values = tf.gather_nd(predicted_matrix, indices)\n",
    "    \n",
    "    loss = tf.losses.mean_squared_error(observed_values, predicted_values)\n",
    "    \n",
    "    return loss\n",
    "    "
   ]
  },
  {
   "cell_type": "code",
   "execution_count": null,
   "metadata": {},
   "outputs": [],
   "source": [
    "k = 50\n",
    "\n",
    "tf.reset_default_graph()\n",
    "\n",
    "X = tf.placeholder(tf.float32, shape=[n_users, n_items], name='X')\n",
    "# X = tf.Variable(initial_value=mean_centered_ratings_matrix, trainable=False)\n",
    "# indices = tf.where(tf.is_finite(X))\n",
    "\n",
    "U = tf.Variable(tf.random_uniform(shape=[n_users, k]))\n",
    "V = tf.Variable(tf.random_uniform(shape=[n_items, k]))\n",
    "\n",
    "outputs = tf.matmul(U, tf.transpose(V))\n",
    "\n",
    "loss = loss_on_observed_value(X, outputs)\n",
    "\n",
    "train_op = tf.train.GradientDescentOptimizer(learning_rate=1).minimize(loss)\n",
    "\n",
    "init = tf.global_variables_initializer()"
   ]
  },
  {
   "cell_type": "code",
   "execution_count": null,
   "metadata": {
    "scrolled": true
   },
   "outputs": [],
   "source": [
    "n_epochs = 5000\n",
    "\n",
    "with tf.Session() as sess:\n",
    "    sess.run(init)\n",
    "    \n",
    "    for epoch in range(n_epochs):\n",
    "        _, train_loss = sess.run([train_op, loss], feed_dict={X: mean_centered_ratings_matrix})\n",
    "        print(\"Epoch: \", epoch, \"\\t Loss: \", train_loss)\n",
    "        \n",
    "    u = sess.run(U)\n",
    "    v = sess.run(V)\n",
    "    print(np.matmul(u, np.transpose(v)))"
   ]
  },
  {
   "cell_type": "code",
   "execution_count": null,
   "metadata": {},
   "outputs": [],
   "source": [
    "print(mean_centered_ratings_matrix)"
   ]
  },
  {
   "cell_type": "markdown",
   "metadata": {},
   "source": [
    "May be overfit"
   ]
  },
  {
   "cell_type": "markdown",
   "metadata": {},
   "source": [
    "### Regularization"
   ]
  },
  {
   "cell_type": "markdown",
   "metadata": {},
   "source": [
    "$$ Minimize\\ J = \\dfrac{1}{2} \\sum_{(i, j) \\in S} e_{ij}^2 + \\dfrac{\\lambda}{2} \\sum_{i = 1}^{m} \\sum_{s = 1}^{k} u_{is}^2 + \\dfrac{\\lambda}{2} \\sum_{j = 1}^{n} \\sum_{s = 1}^{k} v_{js}^2 = \\dfrac{1}{2} \\sum_{(i, j) \\in S} (r_{ij} - \\sum_{s=1}^k u_{is}v_{js})^2 + \\dfrac{\\lambda}{2} \\sum_{i = 1}^{m} \\sum_{s = 1}^{k} u_{is}^2 + \\dfrac{\\lambda}{2} \\sum_{j = 1}^{n} \\sum_{s = 1}^{k} v_{js}^2$$\n",
    "\n"
   ]
  },
  {
   "cell_type": "code",
   "execution_count": null,
   "metadata": {},
   "outputs": [],
   "source": [
    "k = 50\n",
    "\n",
    "tf.reset_default_graph()\n",
    "\n",
    "X = tf.placeholder(tf.float32, shape=[n_users, n_items], name='X')\n",
    "# X = tf.Variable(initial_value=mean_centered_ratings_matrix, trainable=False)\n",
    "# indices = tf.where(tf.is_finite(X))\n",
    "\n",
    "U = tf.Variable(tf.random_uniform(shape=[n_users, k]))\n",
    "V = tf.Variable(tf.random_uniform(shape=[n_items, k]))\n",
    "\n",
    "outputs = tf.matmul(U, tf.transpose(V))\n",
    "\n",
    "loss = loss_on_observed_value(X, outputs)\n",
    "reg_losses = tf.nn.l2_loss(U) + tf.nn.l2_loss(V)\n",
    "\n",
    "loss = loss + 0.01*reg_losses\n",
    "train_op = tf.train.GradientDescentOptimizer(learning_rate=1).minimize(loss)\n",
    "\n",
    "init = tf.global_variables_initializer()\n",
    "\n"
   ]
  },
  {
   "cell_type": "code",
   "execution_count": null,
   "metadata": {},
   "outputs": [],
   "source": [
    "n_epochs = 500\n",
    "\n",
    "with tf.Session() as sess:\n",
    "    sess.run(init)\n",
    "    \n",
    "    for epoch in range(n_epochs):\n",
    "        _, train_loss = sess.run([train_op, loss], feed_dict={X: mean_centered_ratings_matrix})\n",
    "        print(\"Epoch: \", epoch, \"\\t Loss: \", train_loss)\n",
    "        \n",
    "    u = sess.run(U)\n",
    "    v = sess.run(V)\n",
    "    print(np.matmul(u, np.transpose(v)))"
   ]
  },
  {
   "cell_type": "code",
   "execution_count": null,
   "metadata": {},
   "outputs": [],
   "source": [
    "result = np.matmul(u, np.transpose(v))"
   ]
  },
  {
   "cell_type": "code",
   "execution_count": null,
   "metadata": {},
   "outputs": [],
   "source": [
    "print(np.mean(result))"
   ]
  },
  {
   "cell_type": "markdown",
   "metadata": {},
   "source": [
    "### Incremental Latent Component Training"
   ]
  },
  {
   "cell_type": "markdown",
   "metadata": {},
   "source": [
    "We first perform the update for $u_{iq}$ and $v_{jq}$ only for $q = 1$. The approach repeatedly cycles through all the observed entries in S while performing the update for $q = 1$ until covergence is reached. Therefore, we can learn the first pair of columns $\\bar{U_1}$ and $\\bar{V_1}$. Then the outer product matrix $\\bar{U_1} \\bar{V_1}^T$ is subtracted from $R$ (for observed entries). Continue for $q = 2$ to $k$: \n",
    "$$ R \\approx UV^T = \\sum_{q = 1}^k \\bar{U_q} \\bar{V_q}^T $$"
   ]
  },
  {
   "cell_type": "markdown",
   "metadata": {},
   "source": [
    "### Alternating Least Squares and Coordinate Descent"
   ]
  },
  {
   "cell_type": "markdown",
   "metadata": {},
   "source": [
    "Alternatiing Least Squares: <br>\n",
    "Iterative approach:\n",
    "1. Keeping U fixed, optimize V\n",
    "2. Keeping V fixed, optimize U \n",
    "\n",
    "The drawback of ALS is that it is not quite as efficient as SGD in large-scale settings with explicit ratings."
   ]
  },
  {
   "cell_type": "markdown",
   "metadata": {},
   "source": [
    "Coordinate Descent:<br>\n",
    "Fixing a subset of variable. All entries in $U$ and $V$ are fixed except for a single entry (or coordinate) in one of two matrices, which will be optimized."
   ]
  },
  {
   "cell_type": "markdown",
   "metadata": {},
   "source": [
    "### Incorporating User and Item Biases"
   ]
  },
  {
   "cell_type": "markdown",
   "metadata": {},
   "source": [
    "User biases: $o_i$ <br>\n",
    "Item biases: $p_j$ <br>\n",
    "The model learn this two variables. The predicted value if the rating entry $(i, j)$ given by:\n",
    "$$ \\hat{r_{ij}} = o_i + p_j + \\sum_{s=1}^k u_{is}.v_{js} $$ <br>\n",
    "Then the error $e_{ij}$ is given by: \n",
    "$$ e_{ij} = r_{ij} - \\hat{r_{ij}} = r_{ij} - o_i - p_j - \\sum_{s=1}^k u_{is}.v_{js}  $$ <br>\n",
    "And the loss funtion of this type is given by:\n",
    "$$ J = \\dfrac{1}{2} \\sum_{(i, j) \\in S} e_{ij}^2 + \\dfrac{\\lambda}{2} \\sum_{i = 1}^{m} \\sum_{s = 1}^{k} u_{is}^2 + \\dfrac{\\lambda}{2} \\sum_{j = 1}^{n} \\sum_{s = 1}^{k} v_{js}^2 + \\dfrac{\\lambda}{2} \\sum_{i = 1}^{m} o_i^2 + \\dfrac{\\lambda}{2} \\sum_{j = 1}^{n} p_j^2 $$"
   ]
  },
  {
   "cell_type": "code",
   "execution_count": null,
   "metadata": {},
   "outputs": [],
   "source": [
    "def get_loss_with_bias(original_matrix, predicted_matrix, user_biases, item_biases):\n",
    "    indices = tf_specified_rating_indices(original_matrix)\n",
    "    \n",
    "    predicted_matrix = tf.transpose(predicted_matrix) - user_biases\n",
    "    predicted_matrix = tf.transpose(predicted_matrix)\n",
    "    predicted_matrix = predicted_matrix - item_biases\n",
    "    \n",
    "    observed_values = tf.gather_nd(original_matrix, indices)\n",
    "    predicted_values = tf.gather_nd(predicted_matrix, indices)\n",
    "    \n",
    "    loss = tf.losses.mean_squared_error(observed_values, predicted_values)\n",
    "    \n",
    "    return loss\n",
    "    "
   ]
  },
  {
   "cell_type": "code",
   "execution_count": null,
   "metadata": {},
   "outputs": [],
   "source": [
    "k = 50\n",
    "\n",
    "tf.reset_default_graph()\n",
    "\n",
    "X = tf.placeholder(tf.float32, shape=[n_users, n_items], name='X')\n",
    "# X = tf.Variable(initial_value=mean_centered_ratings_matrix, trainable=False)\n",
    "# indices = tf.where(tf.is_finite(X))\n",
    "\n",
    "U = tf.Variable(tf.random_uniform(shape=[n_users, k]))\n",
    "V = tf.Variable(tf.random_uniform(shape=[n_items, k]))\n",
    "\n",
    "user_biases = tf.Variable(tf.random_uniform(shape=[n_users]))\n",
    "item_biases = tf.Variable(tf.random_uniform(shape=[n_items]))\n",
    "\n",
    "outputs = tf.matmul(U, tf.transpose(V))\n",
    "\n",
    "# fix here\n",
    "loss = get_loss_with_bias(X, outputs, user_biases, item_biases)\n",
    "reg_losses = tf.nn.l2_loss(U) + tf.nn.l2_loss(V) + tf.nn.l2_loss(user_biases) + tf.nn.l2_loss(item_biases)\n",
    "\n",
    "loss = loss + 0.01*reg_losses\n",
    "train_op = tf.train.GradientDescentOptimizer(learning_rate=1).minimize(loss)\n",
    "\n",
    "init = tf.global_variables_initializer()\n",
    "\n",
    "\n"
   ]
  },
  {
   "cell_type": "code",
   "execution_count": null,
   "metadata": {},
   "outputs": [],
   "source": [
    "n_epochs = 500\n",
    "\n",
    "with tf.Session() as sess:\n",
    "    sess.run(init)\n",
    "    \n",
    "    for epoch in range(n_epochs):\n",
    "        _, train_loss = sess.run([train_op, loss], feed_dict={X: mean_centered_ratings_matrix})\n",
    "        print(\"Epoch: \", epoch, \"\\t Loss: \", train_loss)\n",
    "        \n",
    "    u = sess.run(U)\n",
    "    v = sess.run(V)\n",
    "    \n",
    "    u_biases, i_biases = sess.run([user_biases, item_biases])\n",
    "    print(np.matmul(u, np.transpose(v)))"
   ]
  },
  {
   "cell_type": "markdown",
   "metadata": {},
   "source": [
    "Instead of having separate variables $o_i$ and $p_j$ for users and items, we can increase the size of the factor matrices to incorporate these bias variables. We need to add two additional columns to each factor matrix $U$ and $V$, to create a larger factor matrices of size $m \\times (k+2)$ and $n \\times (k + 2)$. The last two columns of each factor matrix are special, because they correspond to the bias components. We have:\n",
    "$$u_{i, k+1} = o_i$$\n",
    "$$u_{i, k+2} = 1$$\n",
    "$$v_{j, k+1} = 1$$\n",
    "$$u_{j, k+2} = p_j$$"
   ]
  },
  {
   "cell_type": "markdown",
   "metadata": {},
   "source": [
    "Then the loss funtion is given as follows:\n",
    "$$ Minimize\\ J = \\dfrac{1}{2} \\sum_{(i, j) \\in S} (r_{ij} - \\sum_{s=1}^{k+2} u_{is}v_{js})^2 + \\dfrac{\\lambda}{2} \\sum_{s=1}^{k+2} (\\sum_{i=1}^m u_{is}^2 + \\sum_{j=1}^n v_{js}^2 )  $$\n",
    "$$ subject\\ to: $$\n",
    "$$ (k+2)th\\ column\\ of\\ U\\ contains\\ only\\ 1s $$\n",
    "$$ (k+1)th\\ column\\ of\\ V\\ contains\\ only\\ 1s $$"
   ]
  },
  {
   "cell_type": "markdown",
   "metadata": {},
   "source": [
    "### Incorporating Implicit Feedback (missing)"
   ]
  },
  {
   "cell_type": "markdown",
   "metadata": {},
   "source": [
    "## Singular Value Decomposition (SVD)"
   ]
  },
  {
   "cell_type": "markdown",
   "metadata": {},
   "source": [
    "SVD is a form of matrix factorization in which the columns of U and V are constrained to be mutually orthogonal, then the concepts can be completely independent of one another. <br>\n",
    "Truncated SVD: $$ R \\approx Q_k\\Sigma_kP_k^T $$"
   ]
  },
  {
   "cell_type": "markdown",
   "metadata": {},
   "source": [
    "The user factors and item factors are defined as follows:\n",
    "$$ U = Q_k\\Sigma_k $$\n",
    "$$ V = P_k $$"
   ]
  },
  {
   "cell_type": "markdown",
   "metadata": {},
   "source": [
    "The loss funtion:\n",
    "$$ Minimize\\ J = \\dfrac{1}{2} \\|R-UV^T\\|^2 $$\n",
    "$$ subject\\ to: $$\n",
    "$$ Columns\\ of\\ U\\ are\\ mutually\\ orthogonal $$\n",
    "$$ Columns\\ of\\ V\\ are\\ mutually\\ orthogonal $$"
   ]
  },
  {
   "cell_type": "markdown",
   "metadata": {},
   "source": [
    "### A Simple Iterative Approach to SVD"
   ]
  },
  {
   "cell_type": "markdown",
   "metadata": {},
   "source": [
    "1. $\\textbf{Initialization:}$ Initialize the missing entries in the $i$th row of $R$ to be the mean $\\mu_i$ of that row to create R_f\n",
    "2. $\\textbf{Iterative step 1:}$ Perform rank-k SVD of $R_f$ in the form $Q_k\\Sigma_kP_k^T$\n",
    "3. $\\textbf{Iterative step 2:}$ Readjust only the (originally) missing entries of $R_f$ to the corresponding values in $Q_k\\Sigma_kP_k^T$. Go tho iterative 1"
   ]
  },
  {
   "cell_type": "code",
   "execution_count": 59,
   "metadata": {},
   "outputs": [
    {
     "name": "stdout",
     "output_type": "stream",
     "text": [
      "[[ 1.38970588 -0.61029412  0.38970588 ...         nan         nan\n",
      "          nan]\n",
      " [ 0.29032258         nan         nan ...         nan         nan\n",
      "          nan]\n",
      " [        nan         nan         nan ...         nan         nan\n",
      "          nan]\n",
      " ...\n",
      " [ 0.95454545         nan         nan ...         nan         nan\n",
      "          nan]\n",
      " [        nan         nan         nan ...         nan         nan\n",
      "          nan]\n",
      " [        nan  1.58928571         nan ...         nan         nan\n",
      "          nan]]\n"
     ]
    }
   ],
   "source": [
    "print(mean_centered_ratings_matrix)"
   ]
  },
  {
   "cell_type": "code",
   "execution_count": 60,
   "metadata": {},
   "outputs": [
    {
     "name": "stdout",
     "output_type": "stream",
     "text": [
      "(array([  0,   0,   0, ..., 942, 942, 942]), array([   0,    1,    2, ..., 1187, 1227, 1329]))\n"
     ]
    }
   ],
   "source": [
    "print(np.where(np.isfinite(mean_centered_ratings_matrix)))\n",
    "\n",
    "def get_nan_position(matrix):\n",
    "    tuple_pos = np.where(np.isnan(mean_centered_ratings_matrix))\n",
    "    row_indexes = tuple_pos[0]\n",
    "    column_indexes = tuple_pos[1]\n",
    "    \n",
    "    positions = []\n",
    "    for i in range(len(row_indexes)):\n",
    "        positions.append((row_indexes[i], column_indexes[i]))\n",
    "        \n",
    "    return positions"
   ]
  },
  {
   "cell_type": "code",
   "execution_count": 61,
   "metadata": {},
   "outputs": [
    {
     "name": "stdout",
     "output_type": "stream",
     "text": [
      "[[ 1.38970588 -0.61029412  0.38970588 ...         nan         nan\n",
      "          nan]\n",
      " [ 0.29032258         nan         nan ...         nan         nan\n",
      "          nan]\n",
      " [        nan         nan         nan ...         nan         nan\n",
      "          nan]\n",
      " ...\n",
      " [ 0.95454545         nan         nan ...         nan         nan\n",
      "          nan]\n",
      " [        nan         nan         nan ...         nan         nan\n",
      "          nan]\n",
      " [        nan  1.58928571         nan ...         nan         nan\n",
      "          nan]]\n"
     ]
    }
   ],
   "source": [
    "print(mean_centered_ratings_matrix)"
   ]
  },
  {
   "cell_type": "code",
   "execution_count": 67,
   "metadata": {},
   "outputs": [
    {
     "name": "stdout",
     "output_type": "stream",
     "text": [
      "Loss:  0.33137143006722747\n",
      "Loss:  0.21577078564536817\n",
      "Loss:  0.15736328945088185\n",
      "Loss:  0.12169801781827193\n",
      "Loss:  0.09775605064837319\n",
      "Loss:  0.08070019687761992\n",
      "Loss:  0.06803236432646602\n",
      "Loss:  0.058323890665578575\n",
      "Loss:  0.05069730788341476\n",
      "Loss:  0.04458422646100689\n"
     ]
    }
   ],
   "source": [
    "from sklearn.utils.extmath import randomized_svd\n",
    "from sklearn.metrics import mean_squared_error\n",
    "\n",
    "nan_positions = get_nan_position(mean_centered_ratings_matrix)\n",
    "non_nan_positions = np.where(np.isfinite(mean_centered_ratings_matrix))\n",
    "\n",
    "input_matrix = row_average_rating_matrix.copy()\n",
    "for i in range(10):\n",
    "    Q, S, PT = randomized_svd(input_matrix, \n",
    "                              n_components=100,\n",
    "                              n_iter=5,\n",
    "                              random_state=None)\n",
    "\n",
    "    S = np.diag(S)\n",
    "    predicted_matrix = np.matmul(Q, np.matmul(S, PT))\n",
    "\n",
    "    for position in nan_positions:\n",
    "        input_matrix[position] = predicted_matrix[position]\n",
    "    \n",
    "    original_values = input_matrix[non_nan_positions]\n",
    "    predicted_values = predicted_matrix[non_nan_positions]\n",
    "    print(\"Loss: \", mean_squared_error(original_values, predicted_values))\n",
    "\n"
   ]
  },
  {
   "cell_type": "code",
   "execution_count": 68,
   "metadata": {},
   "outputs": [
    {
     "name": "stdout",
     "output_type": "stream",
     "text": [
      "[[ 1.38970588e+00 -6.10294118e-01  3.89705882e-01 ...  1.62173789e-02\n",
      "  -6.07045631e-04 -1.48865249e-02]\n",
      " [ 2.90322581e-01 -5.07833378e-01 -3.68378357e-01 ... -1.66772339e-02\n",
      "   1.57651548e-03  5.14871036e-03]\n",
      " [ 4.24543845e-01 -2.44000463e-01  4.47105851e-01 ...  4.86639894e-03\n",
      "  -6.17747313e-05  1.52825826e-03]\n",
      " ...\n",
      " [ 9.54545455e-01 -1.07632059e-03  3.16021165e-01 ...  2.45883916e-02\n",
      "   6.48941149e-05 -2.33700822e-03]\n",
      " [-3.24091431e-01  1.97988861e-01  5.34895782e-01 ... -5.64206503e-02\n",
      "  -1.01905428e-03 -5.10001838e-03]\n",
      " [ 4.18545158e-01  1.58928571e+00 -3.93988769e-01 ... -9.96837143e-02\n",
      "   1.36385179e-03 -2.13026798e-02]]\n"
     ]
    }
   ],
   "source": [
    "print(input_matrix)"
   ]
  },
  {
   "cell_type": "markdown",
   "metadata": {},
   "source": [
    "### An Optimization-Based Approach"
   ]
  },
  {
   "cell_type": "markdown",
   "metadata": {},
   "source": [
    "Then the loss funtion is given as follows:\n",
    "$$ Minimize\\ J = \\dfrac{1}{2} \\sum_{(i, j) \\in S} (r_{ij} - \\sum_{s=1}^{k} u_{is}v_{js})^2 + \\dfrac{\\lambda_1}{2} \\sum_{i=1}^m\\sum_{s=1}^{k} u_{is}^2 + \\dfrac{\\lambda_2}{2}\\sum_{j=1}^n\\sum_{s=1}^{k} v_{js}^2 )  $$\n",
    "$$ subject\\ to: $$\n",
    "$$ Columns\\ of\\ U\\ are\\ mutually\\ orthogonal $$\n",
    "$$ Columns\\ of\\ V\\ are\\ mutually\\ orthogonal $$"
   ]
  },
  {
   "cell_type": "markdown",
   "metadata": {},
   "source": [
    "### Out-of-Sample Recommendations (explained in geomaric theory)"
   ]
  },
  {
   "cell_type": "markdown",
   "metadata": {},
   "source": [
    "## Non-negative Matrix Factorization"
   ]
  },
  {
   "cell_type": "markdown",
   "metadata": {},
   "source": [
    "Optimization factorization:\n",
    "$$ Minimize\\ J = \\dfrac{1}{2} \\|R-UV^T\\|^2 $$\n",
    "$$ subject\\ to: $$\n",
    "$$ U \\geq 0 $$\n",
    "$$ V \\geq 0 $$"
   ]
  },
  {
   "cell_type": "markdown",
   "metadata": {},
   "source": [
    "The major advantage of this approach is not necessarily one of accuracy, but that of high level of interpretability it provides in understanding the user-item interactions."
   ]
  },
  {
   "cell_type": "markdown",
   "metadata": {},
   "source": [
    "## Understanding the Matrix Factorization Family"
   ]
  },
  {
   "cell_type": "code",
   "execution_count": 69,
   "metadata": {},
   "outputs": [],
   "source": [
    "import matplotlib.pyplot as plt\n",
    "import matplotlib.image as mpimg\n",
    "import numpy as np"
   ]
  },
  {
   "cell_type": "code",
   "execution_count": 71,
   "metadata": {},
   "outputs": [
    {
     "data": {
      "image/png": "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\n",
      "text/plain": [
       "<Figure size 432x288 with 1 Axes>"
      ]
     },
     "metadata": {},
     "output_type": "display_data"
    }
   ],
   "source": [
    "%matplotlib inline\n",
    "img = mpimg.imread('matrix_factorization.jpg')\n",
    "imgplot = plt.imshow(img)"
   ]
  },
  {
   "cell_type": "markdown",
   "metadata": {},
   "source": [
    "# Integrating Factorization and Neighborhood Models (missing)"
   ]
  },
  {
   "cell_type": "code",
   "execution_count": null,
   "metadata": {},
   "outputs": [],
   "source": []
  },
  {
   "cell_type": "code",
   "execution_count": null,
   "metadata": {},
   "outputs": [],
   "source": []
  },
  {
   "cell_type": "code",
   "execution_count": null,
   "metadata": {},
   "outputs": [],
   "source": []
  },
  {
   "cell_type": "code",
   "execution_count": null,
   "metadata": {},
   "outputs": [],
   "source": []
  },
  {
   "cell_type": "code",
   "execution_count": null,
   "metadata": {},
   "outputs": [],
   "source": []
  },
  {
   "cell_type": "code",
   "execution_count": null,
   "metadata": {},
   "outputs": [],
   "source": []
  },
  {
   "cell_type": "code",
   "execution_count": null,
   "metadata": {},
   "outputs": [],
   "source": []
  },
  {
   "cell_type": "code",
   "execution_count": null,
   "metadata": {},
   "outputs": [],
   "source": []
  },
  {
   "cell_type": "code",
   "execution_count": null,
   "metadata": {},
   "outputs": [],
   "source": []
  },
  {
   "cell_type": "code",
   "execution_count": null,
   "metadata": {},
   "outputs": [],
   "source": []
  },
  {
   "cell_type": "code",
   "execution_count": null,
   "metadata": {},
   "outputs": [],
   "source": []
  },
  {
   "cell_type": "code",
   "execution_count": null,
   "metadata": {},
   "outputs": [],
   "source": []
  },
  {
   "cell_type": "code",
   "execution_count": null,
   "metadata": {},
   "outputs": [],
   "source": []
  },
  {
   "cell_type": "code",
   "execution_count": null,
   "metadata": {},
   "outputs": [],
   "source": []
  }
 ],
 "metadata": {
  "kernelspec": {
   "display_name": "Python 3",
   "language": "python",
   "name": "python3"
  },
  "language_info": {
   "codemirror_mode": {
    "name": "ipython",
    "version": 3
   },
   "file_extension": ".py",
   "mimetype": "text/x-python",
   "name": "python",
   "nbconvert_exporter": "python",
   "pygments_lexer": "ipython3",
   "version": "3.6.5"
  }
 },
 "nbformat": 4,
 "nbformat_minor": 2
}
